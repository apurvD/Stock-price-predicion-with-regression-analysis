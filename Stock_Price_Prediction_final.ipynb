{
 "cells": [
  {
   "cell_type": "markdown",
   "id": "f39117e6",
   "metadata": {},
   "source": [
    "# Project : Stock price prediction with regression analysis\n",
    "--------------> Apurv Deshpande "
   ]
  },
  {
   "cell_type": "code",
   "execution_count": 1,
   "id": "8bb52ba8",
   "metadata": {},
   "outputs": [],
   "source": [
    "# The stock of a corporation signifies ownership in the corporation\n",
    "\n",
    "# For e.g. if an investor owns 50 shares of stock in a company that has, in total 1000 outstanding shares,\n",
    "# that investor or shareholder would own and have claim on 5% of the company assets and earnings."
   ]
  },
  {
   "cell_type": "markdown",
   "id": "65208832",
   "metadata": {},
   "source": [
    "# IMPORTING NECESSARY LIBRARIES AND DATA"
   ]
  },
  {
   "cell_type": "code",
   "execution_count": 2,
   "id": "dcf0d743",
   "metadata": {},
   "outputs": [],
   "source": [
    "import numpy as np\n",
    "import pandas as pd\n",
    "import matplotlib.pyplot as plt\n",
    "import warnings\n",
    "warnings.filterwarnings(\"ignore\")\n",
    "from sklearn.model_selection import GridSearchCV\n",
    "from sklearn.metrics import mean_squared_error, mean_absolute_error, r2_score\n",
    "from sklearn.preprocessing import StandardScaler"
   ]
  },
  {
   "cell_type": "code",
   "execution_count": 3,
   "id": "90d9b458",
   "metadata": {},
   "outputs": [
    {
     "data": {
      "text/html": [
       "<div>\n",
       "<style scoped>\n",
       "    .dataframe tbody tr th:only-of-type {\n",
       "        vertical-align: middle;\n",
       "    }\n",
       "\n",
       "    .dataframe tbody tr th {\n",
       "        vertical-align: top;\n",
       "    }\n",
       "\n",
       "    .dataframe thead th {\n",
       "        text-align: right;\n",
       "    }\n",
       "</style>\n",
       "<table border=\"1\" class=\"dataframe\">\n",
       "  <thead>\n",
       "    <tr style=\"text-align: right;\">\n",
       "      <th></th>\n",
       "      <th>Open</th>\n",
       "      <th>High</th>\n",
       "      <th>Low</th>\n",
       "      <th>Close</th>\n",
       "      <th>Adj Close</th>\n",
       "      <th>Volume</th>\n",
       "    </tr>\n",
       "    <tr>\n",
       "      <th>Date</th>\n",
       "      <th></th>\n",
       "      <th></th>\n",
       "      <th></th>\n",
       "      <th></th>\n",
       "      <th></th>\n",
       "      <th></th>\n",
       "    </tr>\n",
       "  </thead>\n",
       "  <tbody>\n",
       "    <tr>\n",
       "      <th>1988-01-04</th>\n",
       "      <td>1952.589966</td>\n",
       "      <td>2030.010010</td>\n",
       "      <td>1950.760010</td>\n",
       "      <td>2015.250000</td>\n",
       "      <td>2015.250000</td>\n",
       "      <td>20880000</td>\n",
       "    </tr>\n",
       "    <tr>\n",
       "      <th>1988-01-05</th>\n",
       "      <td>2056.370117</td>\n",
       "      <td>2075.270020</td>\n",
       "      <td>2021.390015</td>\n",
       "      <td>2031.500000</td>\n",
       "      <td>2031.500000</td>\n",
       "      <td>27200000</td>\n",
       "    </tr>\n",
       "    <tr>\n",
       "      <th>1988-01-06</th>\n",
       "      <td>2036.469971</td>\n",
       "      <td>2058.189941</td>\n",
       "      <td>2012.770020</td>\n",
       "      <td>2037.800049</td>\n",
       "      <td>2037.800049</td>\n",
       "      <td>18800000</td>\n",
       "    </tr>\n",
       "    <tr>\n",
       "      <th>1988-01-07</th>\n",
       "      <td>2019.890015</td>\n",
       "      <td>2061.510010</td>\n",
       "      <td>2004.640015</td>\n",
       "      <td>2051.889893</td>\n",
       "      <td>2051.889893</td>\n",
       "      <td>21370000</td>\n",
       "    </tr>\n",
       "    <tr>\n",
       "      <th>1988-01-08</th>\n",
       "      <td>2046.579956</td>\n",
       "      <td>2058.689941</td>\n",
       "      <td>1898.040039</td>\n",
       "      <td>1911.310059</td>\n",
       "      <td>1911.310059</td>\n",
       "      <td>27440000</td>\n",
       "    </tr>\n",
       "    <tr>\n",
       "      <th>...</th>\n",
       "      <td>...</td>\n",
       "      <td>...</td>\n",
       "      <td>...</td>\n",
       "      <td>...</td>\n",
       "      <td>...</td>\n",
       "      <td>...</td>\n",
       "    </tr>\n",
       "    <tr>\n",
       "      <th>2016-12-23</th>\n",
       "      <td>19908.609375</td>\n",
       "      <td>19934.150391</td>\n",
       "      <td>19899.060547</td>\n",
       "      <td>19933.810547</td>\n",
       "      <td>19933.810547</td>\n",
       "      <td>158260000</td>\n",
       "    </tr>\n",
       "    <tr>\n",
       "      <th>2016-12-27</th>\n",
       "      <td>19943.460938</td>\n",
       "      <td>19980.240234</td>\n",
       "      <td>19939.800781</td>\n",
       "      <td>19945.039063</td>\n",
       "      <td>19945.039063</td>\n",
       "      <td>158540000</td>\n",
       "    </tr>\n",
       "    <tr>\n",
       "      <th>2016-12-28</th>\n",
       "      <td>19964.310547</td>\n",
       "      <td>19981.109375</td>\n",
       "      <td>19827.310547</td>\n",
       "      <td>19833.679688</td>\n",
       "      <td>19833.679688</td>\n",
       "      <td>188350000</td>\n",
       "    </tr>\n",
       "    <tr>\n",
       "      <th>2016-12-29</th>\n",
       "      <td>19835.460938</td>\n",
       "      <td>19878.439453</td>\n",
       "      <td>19788.939453</td>\n",
       "      <td>19819.779297</td>\n",
       "      <td>19819.779297</td>\n",
       "      <td>172040000</td>\n",
       "    </tr>\n",
       "    <tr>\n",
       "      <th>2016-12-30</th>\n",
       "      <td>19833.169922</td>\n",
       "      <td>19852.550781</td>\n",
       "      <td>19718.669922</td>\n",
       "      <td>19762.599609</td>\n",
       "      <td>19762.599609</td>\n",
       "      <td>271910000</td>\n",
       "    </tr>\n",
       "  </tbody>\n",
       "</table>\n",
       "<p>7310 rows × 6 columns</p>\n",
       "</div>"
      ],
      "text/plain": [
       "                    Open          High           Low         Close  \\\n",
       "Date                                                                 \n",
       "1988-01-04   1952.589966   2030.010010   1950.760010   2015.250000   \n",
       "1988-01-05   2056.370117   2075.270020   2021.390015   2031.500000   \n",
       "1988-01-06   2036.469971   2058.189941   2012.770020   2037.800049   \n",
       "1988-01-07   2019.890015   2061.510010   2004.640015   2051.889893   \n",
       "1988-01-08   2046.579956   2058.689941   1898.040039   1911.310059   \n",
       "...                  ...           ...           ...           ...   \n",
       "2016-12-23  19908.609375  19934.150391  19899.060547  19933.810547   \n",
       "2016-12-27  19943.460938  19980.240234  19939.800781  19945.039063   \n",
       "2016-12-28  19964.310547  19981.109375  19827.310547  19833.679688   \n",
       "2016-12-29  19835.460938  19878.439453  19788.939453  19819.779297   \n",
       "2016-12-30  19833.169922  19852.550781  19718.669922  19762.599609   \n",
       "\n",
       "               Adj Close     Volume  \n",
       "Date                                 \n",
       "1988-01-04   2015.250000   20880000  \n",
       "1988-01-05   2031.500000   27200000  \n",
       "1988-01-06   2037.800049   18800000  \n",
       "1988-01-07   2051.889893   21370000  \n",
       "1988-01-08   1911.310059   27440000  \n",
       "...                  ...        ...  \n",
       "2016-12-23  19933.810547  158260000  \n",
       "2016-12-27  19945.039063  158540000  \n",
       "2016-12-28  19833.679688  188350000  \n",
       "2016-12-29  19819.779297  172040000  \n",
       "2016-12-30  19762.599609  271910000  \n",
       "\n",
       "[7310 rows x 6 columns]"
      ]
     },
     "execution_count": 3,
     "metadata": {},
     "output_type": "execute_result"
    }
   ],
   "source": [
    "df = pd.read_csv('stocks.csv',index_col=\"Date\")\n",
    "df"
   ]
  },
  {
   "cell_type": "raw",
   "id": "6e9b5983",
   "metadata": {},
   "source": [
    "The columns in the above dataset are as follows:\n",
    " \n",
    "Open   : The starting price for a given trading day.\n",
    "Close  : The final price on that day.\n",
    "High   : The highest prices at which the stock traded on that day.\n",
    "Low    : The lowest price at which the stock traded on that day.\n",
    "Volume : The total number of shares traded before the market is closed on that day."
   ]
  },
  {
   "cell_type": "markdown",
   "id": "5718b7e8",
   "metadata": {},
   "source": [
    "# PERFORMING EDA ->Exploratory Data Analysis\n",
    "\n",
    "Now, we clean the data by removing duplicate values (if any), and analyze the data using visual techniques."
   ]
  },
  {
   "cell_type": "code",
   "execution_count": 4,
   "id": "0a6c00e6",
   "metadata": {},
   "outputs": [
    {
     "data": {
      "text/html": [
       "<div>\n",
       "<style scoped>\n",
       "    .dataframe tbody tr th:only-of-type {\n",
       "        vertical-align: middle;\n",
       "    }\n",
       "\n",
       "    .dataframe tbody tr th {\n",
       "        vertical-align: top;\n",
       "    }\n",
       "\n",
       "    .dataframe thead th {\n",
       "        text-align: right;\n",
       "    }\n",
       "</style>\n",
       "<table border=\"1\" class=\"dataframe\">\n",
       "  <thead>\n",
       "    <tr style=\"text-align: right;\">\n",
       "      <th></th>\n",
       "      <th>Open</th>\n",
       "      <th>High</th>\n",
       "      <th>Low</th>\n",
       "      <th>Close</th>\n",
       "      <th>Adj Close</th>\n",
       "      <th>Volume</th>\n",
       "    </tr>\n",
       "    <tr>\n",
       "      <th>Date</th>\n",
       "      <th></th>\n",
       "      <th></th>\n",
       "      <th></th>\n",
       "      <th></th>\n",
       "      <th></th>\n",
       "      <th></th>\n",
       "    </tr>\n",
       "  </thead>\n",
       "  <tbody>\n",
       "    <tr>\n",
       "      <th>1988-01-04</th>\n",
       "      <td>1952.589966</td>\n",
       "      <td>2030.010010</td>\n",
       "      <td>1950.760010</td>\n",
       "      <td>2015.250000</td>\n",
       "      <td>2015.250000</td>\n",
       "      <td>20880000</td>\n",
       "    </tr>\n",
       "    <tr>\n",
       "      <th>1988-01-05</th>\n",
       "      <td>2056.370117</td>\n",
       "      <td>2075.270020</td>\n",
       "      <td>2021.390015</td>\n",
       "      <td>2031.500000</td>\n",
       "      <td>2031.500000</td>\n",
       "      <td>27200000</td>\n",
       "    </tr>\n",
       "    <tr>\n",
       "      <th>1988-01-06</th>\n",
       "      <td>2036.469971</td>\n",
       "      <td>2058.189941</td>\n",
       "      <td>2012.770020</td>\n",
       "      <td>2037.800049</td>\n",
       "      <td>2037.800049</td>\n",
       "      <td>18800000</td>\n",
       "    </tr>\n",
       "    <tr>\n",
       "      <th>1988-01-07</th>\n",
       "      <td>2019.890015</td>\n",
       "      <td>2061.510010</td>\n",
       "      <td>2004.640015</td>\n",
       "      <td>2051.889893</td>\n",
       "      <td>2051.889893</td>\n",
       "      <td>21370000</td>\n",
       "    </tr>\n",
       "    <tr>\n",
       "      <th>1988-01-08</th>\n",
       "      <td>2046.579956</td>\n",
       "      <td>2058.689941</td>\n",
       "      <td>1898.040039</td>\n",
       "      <td>1911.310059</td>\n",
       "      <td>1911.310059</td>\n",
       "      <td>27440000</td>\n",
       "    </tr>\n",
       "    <tr>\n",
       "      <th>...</th>\n",
       "      <td>...</td>\n",
       "      <td>...</td>\n",
       "      <td>...</td>\n",
       "      <td>...</td>\n",
       "      <td>...</td>\n",
       "      <td>...</td>\n",
       "    </tr>\n",
       "    <tr>\n",
       "      <th>2016-12-23</th>\n",
       "      <td>19908.609375</td>\n",
       "      <td>19934.150391</td>\n",
       "      <td>19899.060547</td>\n",
       "      <td>19933.810547</td>\n",
       "      <td>19933.810547</td>\n",
       "      <td>158260000</td>\n",
       "    </tr>\n",
       "    <tr>\n",
       "      <th>2016-12-27</th>\n",
       "      <td>19943.460938</td>\n",
       "      <td>19980.240234</td>\n",
       "      <td>19939.800781</td>\n",
       "      <td>19945.039063</td>\n",
       "      <td>19945.039063</td>\n",
       "      <td>158540000</td>\n",
       "    </tr>\n",
       "    <tr>\n",
       "      <th>2016-12-28</th>\n",
       "      <td>19964.310547</td>\n",
       "      <td>19981.109375</td>\n",
       "      <td>19827.310547</td>\n",
       "      <td>19833.679688</td>\n",
       "      <td>19833.679688</td>\n",
       "      <td>188350000</td>\n",
       "    </tr>\n",
       "    <tr>\n",
       "      <th>2016-12-29</th>\n",
       "      <td>19835.460938</td>\n",
       "      <td>19878.439453</td>\n",
       "      <td>19788.939453</td>\n",
       "      <td>19819.779297</td>\n",
       "      <td>19819.779297</td>\n",
       "      <td>172040000</td>\n",
       "    </tr>\n",
       "    <tr>\n",
       "      <th>2016-12-30</th>\n",
       "      <td>19833.169922</td>\n",
       "      <td>19852.550781</td>\n",
       "      <td>19718.669922</td>\n",
       "      <td>19762.599609</td>\n",
       "      <td>19762.599609</td>\n",
       "      <td>271910000</td>\n",
       "    </tr>\n",
       "  </tbody>\n",
       "</table>\n",
       "<p>7310 rows × 6 columns</p>\n",
       "</div>"
      ],
      "text/plain": [
       "                    Open          High           Low         Close  \\\n",
       "Date                                                                 \n",
       "1988-01-04   1952.589966   2030.010010   1950.760010   2015.250000   \n",
       "1988-01-05   2056.370117   2075.270020   2021.390015   2031.500000   \n",
       "1988-01-06   2036.469971   2058.189941   2012.770020   2037.800049   \n",
       "1988-01-07   2019.890015   2061.510010   2004.640015   2051.889893   \n",
       "1988-01-08   2046.579956   2058.689941   1898.040039   1911.310059   \n",
       "...                  ...           ...           ...           ...   \n",
       "2016-12-23  19908.609375  19934.150391  19899.060547  19933.810547   \n",
       "2016-12-27  19943.460938  19980.240234  19939.800781  19945.039063   \n",
       "2016-12-28  19964.310547  19981.109375  19827.310547  19833.679688   \n",
       "2016-12-29  19835.460938  19878.439453  19788.939453  19819.779297   \n",
       "2016-12-30  19833.169922  19852.550781  19718.669922  19762.599609   \n",
       "\n",
       "               Adj Close     Volume  \n",
       "Date                                 \n",
       "1988-01-04   2015.250000   20880000  \n",
       "1988-01-05   2031.500000   27200000  \n",
       "1988-01-06   2037.800049   18800000  \n",
       "1988-01-07   2051.889893   21370000  \n",
       "1988-01-08   1911.310059   27440000  \n",
       "...                  ...        ...  \n",
       "2016-12-23  19933.810547  158260000  \n",
       "2016-12-27  19945.039063  158540000  \n",
       "2016-12-28  19833.679688  188350000  \n",
       "2016-12-29  19819.779297  172040000  \n",
       "2016-12-30  19762.599609  271910000  \n",
       "\n",
       "[7310 rows x 6 columns]"
      ]
     },
     "execution_count": 4,
     "metadata": {},
     "output_type": "execute_result"
    }
   ],
   "source": [
    "df.drop_duplicates()"
   ]
  },
  {
   "cell_type": "code",
   "execution_count": 5,
   "id": "1e002e7a",
   "metadata": {},
   "outputs": [
    {
     "data": {
      "text/plain": [
       "Open         0\n",
       "High         0\n",
       "Low          0\n",
       "Close        0\n",
       "Adj Close    0\n",
       "Volume       0\n",
       "dtype: int64"
      ]
     },
     "execution_count": 5,
     "metadata": {},
     "output_type": "execute_result"
    }
   ],
   "source": [
    "df.isnull().sum()"
   ]
  },
  {
   "cell_type": "code",
   "execution_count": 6,
   "id": "036231b3",
   "metadata": {},
   "outputs": [
    {
     "data": {
      "image/png": "[encoded data removed]",
      "text/plain": [
       "<Figure size 1296x720 with 2 Axes>"
      ]
     },
     "metadata": {
      "needs_background": "light"
     },
     "output_type": "display_data"
    }
   ],
   "source": [
    "import seaborn as sns\n",
    "plt.figure(figsize=(18,10))\n",
    "sns.heatmap(df.corr() ,annot=True , cmap=plt.cm.Accent)\n",
    "plt.show()"
   ]
  },
  {
   "cell_type": "code",
   "execution_count": 7,
   "id": "28e2604d",
   "metadata": {},
   "outputs": [
    {
     "data": {
      "text/plain": [
       "array([[<AxesSubplot:title={'center':'Open'}>,\n",
       "        <AxesSubplot:title={'center':'High'}>],\n",
       "       [<AxesSubplot:title={'center':'Low'}>,\n",
       "        <AxesSubplot:title={'center':'Close'}>],\n",
       "       [<AxesSubplot:title={'center':'Adj Close'}>,\n",
       "        <AxesSubplot:title={'center':'Volume'}>]], dtype=object)"
      ]
     },
     "execution_count": 7,
     "metadata": {},
     "output_type": "execute_result"
    },
    {
     "data": {
      "image/png": "[encoded data removed]",
      "text/plain": [
       "<Figure size 1008x1008 with 6 Axes>"
      ]
     },
     "metadata": {
      "needs_background": "light"
     },
     "output_type": "display_data"
    }
   ],
   "source": [
    "df.hist(figsize=(14,14))"
   ]
  },
  {
   "cell_type": "code",
   "execution_count": 8,
   "id": "6073246d",
   "metadata": {},
   "outputs": [
    {
     "data": {
      "text/plain": [
       "<AxesSubplot:>"
      ]
     },
     "execution_count": 8,
     "metadata": {},
     "output_type": "execute_result"
    },
    {
     "data": {
      "image/png": "[encoded data removed]",
      "text/plain": [
       "<Figure size 432x288 with 1 Axes>"
      ]
     },
     "metadata": {
      "needs_background": "light"
     },
     "output_type": "display_data"
    }
   ],
   "source": [
    "df.plot.line(y=\"Close\",use_index=False)"
   ]
  },
  {
   "cell_type": "markdown",
   "id": "bd2f9e4b",
   "metadata": {},
   "source": [
    "# Now, we generate a new dataframe, which would contain the same dataset."
   ]
  },
  {
   "cell_type": "code",
   "execution_count": 9,
   "id": "733a4a10",
   "metadata": {},
   "outputs": [],
   "source": [
    "#Below is a function that will help us generate a new dataframe. The function will create new leading variables, features\n",
    "# used to compare values of columns."
   ]
  },
  {
   "cell_type": "code",
   "execution_count": 10,
   "id": "86310a2c",
   "metadata": {},
   "outputs": [],
   "source": [
    "def generate_features(df):\n",
    "    newdf=pd.DataFrame()\n",
    "    \n",
    "    #Creates\n",
    "    newdf['open']=df['Open']\n",
    "    newdf['open_1']=df['Open'].shift(1)\n",
    "    newdf['close_1']=df['Close'].shift(1)\n",
    "    newdf['high_1']=df['High'].shift(1)\n",
    "    newdf['low_1']=df['Low'].shift(1)\n",
    "    newdf['volume_1']=df['Volume'].shift(1)\n",
    "    \n",
    "    #Average price: we create a variable which has a rolling average of 5,21,252 Average points/values\n",
    "    newdf['Average Price_5']= df['Close'].rolling(5).mean().shift(1)\n",
    "    newdf['Average Price_30']= df['Close'].rolling(21).mean().shift(1)\n",
    "    newdf['Average Price_365']= df['Close'].rolling(252).mean().shift(1)\n",
    "    newdf['Ratio Average Price_5_30']= newdf['Average Price_5']/newdf['Average Price_30']\n",
    "    newdf['Ratio Average Price_5_365']= newdf['Average Price_5']/newdf['Average Price_365']\n",
    "    newdf['Ratio Average Price_30_365']= newdf['Average Price_30']/newdf['Average Price_365']\n",
    "    #The rolling() function is used to provide rolling window calculations about average price.\n",
    "    \n",
    "    #Average volume: we create a variable which has a rolling mean of 5,21,252 volume points/values\n",
    "    newdf['Average Volume_5']= df['Volume'].rolling(5).mean().shift(1)\n",
    "    newdf['Average Volume_30']= df['Volume'].rolling(21).mean().shift(1)\n",
    "    newdf['Average Volume_365']= df['Volume'].rolling(252).mean().shift(1)\n",
    "    newdf['Ratio Average Volume_5_30']= newdf['Average Volume_5']/newdf['Average Volume_30']\n",
    "    newdf['Ratio Average Volume_5_365']= newdf['Average Volume_5']/newdf['Average Volume_365']\n",
    "    newdf['Ratio Average Volume30_365']= newdf['Average Volume_30']/newdf['Average Volume_365']\n",
    "    #The rolling() function is used to provide rolling window calculations about average volume.\n",
    "    \n",
    "    #Standard deviation of prices: we create a variable which has a rolling standard deviation of 5,21,252 data points/values\n",
    "    newdf['Std Deviation Price_5']= df['Close'].rolling(5).std().shift(1)\n",
    "    newdf['Std Deviation Price_30']= df['Close'].rolling(21).std().shift(1)\n",
    "    newdf['Std Deviation Price_365']= df['Close'].rolling(252).std().shift(1)\n",
    "    newdf['Ratio Std Deviation Price_5_30']= newdf['Std Deviation Price_5']/newdf['Std Deviation Price_30']\n",
    "    newdf['Ratio Std Deviation Price_5_365']= newdf['Std Deviation Price_5']/newdf['Std Deviation Price_365']\n",
    "    newdf['Ratio Std Deviation Price_30_365']= newdf['Std Deviation Price_30']/newdf['Std Deviation Price_365']\n",
    "    #The rolling() function is used to provide rolling window calculations about standard deviation.\n",
    "    \n",
    "    #Standard deviation of volume:\n",
    "    newdf['Std Volume_5']= df['Volume'].rolling(5).std().shift(1)\n",
    "    newdf['Std Volume_30']= df['Volume'].rolling(21).std().shift(1)\n",
    "    newdf['Std Volume_365']= df['Volume'].rolling(252).std().shift(1)\n",
    "    newdf['Ratio Std Volume_5_30']= newdf['Std Volume_5']/newdf['Std Volume_30']\n",
    "    newdf['Ratio Std Volume_5_365']= newdf['Std Volume_5']/newdf['Std Volume_365']\n",
    "    newdf['Ratio Std Volume_30_365']= newdf['Std Volume_30']/newdf['Std Volume_365']\n",
    "    \n",
    "    # The target column: \"Close\"  : we will consider the closing vlaue of each day for predictions.\n",
    "    newdf['close']=df['Close']\n",
    "    newdf=newdf.dropna(axis=0)\n",
    "    return newdf"
   ]
  },
  {
   "cell_type": "code",
   "execution_count": 11,
   "id": "bbda734c",
   "metadata": {},
   "outputs": [
    {
     "data": {
      "text/html": [
       "<div>\n",
       "<style scoped>\n",
       "    .dataframe tbody tr th:only-of-type {\n",
       "        vertical-align: middle;\n",
       "    }\n",
       "\n",
       "    .dataframe tbody tr th {\n",
       "        vertical-align: top;\n",
       "    }\n",
       "\n",
       "    .dataframe thead th {\n",
       "        text-align: right;\n",
       "    }\n",
       "</style>\n",
       "<table border=\"1\" class=\"dataframe\">\n",
       "  <thead>\n",
       "    <tr style=\"text-align: right;\">\n",
       "      <th></th>\n",
       "      <th>open</th>\n",
       "      <th>open_1</th>\n",
       "      <th>close_1</th>\n",
       "      <th>high_1</th>\n",
       "      <th>low_1</th>\n",
       "      <th>volume_1</th>\n",
       "      <th>Average Price_5</th>\n",
       "      <th>Average Price_30</th>\n",
       "      <th>Average Price_365</th>\n",
       "      <th>Ratio Average Price_5_30</th>\n",
       "      <th>...</th>\n",
       "      <th>Ratio Std Deviation Price_5_30</th>\n",
       "      <th>Ratio Std Deviation Price_5_365</th>\n",
       "      <th>Ratio Std Deviation Price_30_365</th>\n",
       "      <th>Std Volume_5</th>\n",
       "      <th>Std Volume_30</th>\n",
       "      <th>Std Volume_365</th>\n",
       "      <th>Ratio Std Volume_5_30</th>\n",
       "      <th>Ratio Std Volume_5_365</th>\n",
       "      <th>Ratio Std Volume_30_365</th>\n",
       "      <th>close</th>\n",
       "    </tr>\n",
       "    <tr>\n",
       "      <th>Date</th>\n",
       "      <th></th>\n",
       "      <th></th>\n",
       "      <th></th>\n",
       "      <th></th>\n",
       "      <th></th>\n",
       "      <th></th>\n",
       "      <th></th>\n",
       "      <th></th>\n",
       "      <th></th>\n",
       "      <th></th>\n",
       "      <th></th>\n",
       "      <th></th>\n",
       "      <th></th>\n",
       "      <th></th>\n",
       "      <th></th>\n",
       "      <th></th>\n",
       "      <th></th>\n",
       "      <th></th>\n",
       "      <th></th>\n",
       "      <th></th>\n",
       "      <th></th>\n",
       "    </tr>\n",
       "  </thead>\n",
       "  <tbody>\n",
       "    <tr>\n",
       "      <th>1988-12-30</th>\n",
       "      <td>2183.389893</td>\n",
       "      <td>2169.110107</td>\n",
       "      <td>2182.679932</td>\n",
       "      <td>2193.040039</td>\n",
       "      <td>2165.179932</td>\n",
       "      <td>12220000.0</td>\n",
       "      <td>2168.215967</td>\n",
       "      <td>2146.005697</td>\n",
       "      <td>2061.050753</td>\n",
       "      <td>1.010350</td>\n",
       "      <td>...</td>\n",
       "      <td>0.372085</td>\n",
       "      <td>0.123335</td>\n",
       "      <td>0.331471</td>\n",
       "      <td>4.260343e+06</td>\n",
       "      <td>4.572098e+06</td>\n",
       "      <td>6.461774e+06</td>\n",
       "      <td>0.931814</td>\n",
       "      <td>0.659315</td>\n",
       "      <td>0.707561</td>\n",
       "      <td>2168.570068</td>\n",
       "    </tr>\n",
       "    <tr>\n",
       "      <th>1989-01-03</th>\n",
       "      <td>2163.209961</td>\n",
       "      <td>2183.389893</td>\n",
       "      <td>2168.570068</td>\n",
       "      <td>2193.750000</td>\n",
       "      <td>2162.500000</td>\n",
       "      <td>11140000.0</td>\n",
       "      <td>2169.857959</td>\n",
       "      <td>2148.579985</td>\n",
       "      <td>2061.659166</td>\n",
       "      <td>1.009903</td>\n",
       "      <td>...</td>\n",
       "      <td>0.332631</td>\n",
       "      <td>0.106706</td>\n",
       "      <td>0.320794</td>\n",
       "      <td>2.605936e+06</td>\n",
       "      <td>4.627472e+06</td>\n",
       "      <td>6.476618e+06</td>\n",
       "      <td>0.563145</td>\n",
       "      <td>0.402361</td>\n",
       "      <td>0.714489</td>\n",
       "      <td>2144.639893</td>\n",
       "    </tr>\n",
       "    <tr>\n",
       "      <th>1989-01-04</th>\n",
       "      <td>2153.750000</td>\n",
       "      <td>2163.209961</td>\n",
       "      <td>2144.639893</td>\n",
       "      <td>2168.389893</td>\n",
       "      <td>2127.139893</td>\n",
       "      <td>17310000.0</td>\n",
       "      <td>2164.999951</td>\n",
       "      <td>2150.616176</td>\n",
       "      <td>2062.108134</td>\n",
       "      <td>1.006688</td>\n",
       "      <td>...</td>\n",
       "      <td>0.677084</td>\n",
       "      <td>0.191809</td>\n",
       "      <td>0.283287</td>\n",
       "      <td>3.633685e+06</td>\n",
       "      <td>4.665697e+06</td>\n",
       "      <td>6.453401e+06</td>\n",
       "      <td>0.778809</td>\n",
       "      <td>0.563065</td>\n",
       "      <td>0.722983</td>\n",
       "      <td>2177.679932</td>\n",
       "    </tr>\n",
       "    <tr>\n",
       "      <th>1989-01-05</th>\n",
       "      <td>2184.290039</td>\n",
       "      <td>2153.750000</td>\n",
       "      <td>2177.679932</td>\n",
       "      <td>2183.389893</td>\n",
       "      <td>2146.610107</td>\n",
       "      <td>15710000.0</td>\n",
       "      <td>2167.999951</td>\n",
       "      <td>2154.682838</td>\n",
       "      <td>2062.663213</td>\n",
       "      <td>1.006181</td>\n",
       "      <td>...</td>\n",
       "      <td>0.914097</td>\n",
       "      <td>0.204474</td>\n",
       "      <td>0.223690</td>\n",
       "      <td>3.057422e+06</td>\n",
       "      <td>4.671999e+06</td>\n",
       "      <td>6.455623e+06</td>\n",
       "      <td>0.654414</td>\n",
       "      <td>0.473606</td>\n",
       "      <td>0.723710</td>\n",
       "      <td>2190.540039</td>\n",
       "    </tr>\n",
       "    <tr>\n",
       "      <th>1989-01-06</th>\n",
       "      <td>2195.889893</td>\n",
       "      <td>2184.290039</td>\n",
       "      <td>2190.540039</td>\n",
       "      <td>2205.179932</td>\n",
       "      <td>2173.040039</td>\n",
       "      <td>20310000.0</td>\n",
       "      <td>2172.821973</td>\n",
       "      <td>2157.862840</td>\n",
       "      <td>2063.213412</td>\n",
       "      <td>1.006932</td>\n",
       "      <td>...</td>\n",
       "      <td>1.089841</td>\n",
       "      <td>0.245020</td>\n",
       "      <td>0.224822</td>\n",
       "      <td>3.744766e+06</td>\n",
       "      <td>4.825499e+06</td>\n",
       "      <td>6.454034e+06</td>\n",
       "      <td>0.776037</td>\n",
       "      <td>0.580221</td>\n",
       "      <td>0.747672</td>\n",
       "      <td>2194.290039</td>\n",
       "    </tr>\n",
       "    <tr>\n",
       "      <th>...</th>\n",
       "      <td>...</td>\n",
       "      <td>...</td>\n",
       "      <td>...</td>\n",
       "      <td>...</td>\n",
       "      <td>...</td>\n",
       "      <td>...</td>\n",
       "      <td>...</td>\n",
       "      <td>...</td>\n",
       "      <td>...</td>\n",
       "      <td>...</td>\n",
       "      <td>...</td>\n",
       "      <td>...</td>\n",
       "      <td>...</td>\n",
       "      <td>...</td>\n",
       "      <td>...</td>\n",
       "      <td>...</td>\n",
       "      <td>...</td>\n",
       "      <td>...</td>\n",
       "      <td>...</td>\n",
       "      <td>...</td>\n",
       "      <td>...</td>\n",
       "    </tr>\n",
       "    <tr>\n",
       "      <th>2016-12-23</th>\n",
       "      <td>19908.609375</td>\n",
       "      <td>19922.679688</td>\n",
       "      <td>19918.880859</td>\n",
       "      <td>19933.830078</td>\n",
       "      <td>19882.189453</td>\n",
       "      <td>258290000.0</td>\n",
       "      <td>19912.386328</td>\n",
       "      <td>19535.447173</td>\n",
       "      <td>17881.612944</td>\n",
       "      <td>1.019295</td>\n",
       "      <td>...</td>\n",
       "      <td>0.145161</td>\n",
       "      <td>0.056500</td>\n",
       "      <td>0.389224</td>\n",
       "      <td>1.346794e+08</td>\n",
       "      <td>1.389864e+08</td>\n",
       "      <td>6.812711e+07</td>\n",
       "      <td>0.969011</td>\n",
       "      <td>1.976884</td>\n",
       "      <td>2.040104</td>\n",
       "      <td>19933.810547</td>\n",
       "    </tr>\n",
       "    <tr>\n",
       "      <th>2016-12-27</th>\n",
       "      <td>19943.460938</td>\n",
       "      <td>19908.609375</td>\n",
       "      <td>19933.810547</td>\n",
       "      <td>19934.150391</td>\n",
       "      <td>19899.060547</td>\n",
       "      <td>158260000.0</td>\n",
       "      <td>19930.466406</td>\n",
       "      <td>19575.953404</td>\n",
       "      <td>17891.063899</td>\n",
       "      <td>1.018110</td>\n",
       "      <td>...</td>\n",
       "      <td>0.096765</td>\n",
       "      <td>0.036682</td>\n",
       "      <td>0.379081</td>\n",
       "      <td>5.569665e+07</td>\n",
       "      <td>1.347603e+08</td>\n",
       "      <td>6.801908e+07</td>\n",
       "      <td>0.413302</td>\n",
       "      <td>0.818839</td>\n",
       "      <td>1.981214</td>\n",
       "      <td>19945.039063</td>\n",
       "    </tr>\n",
       "    <tr>\n",
       "      <th>2016-12-28</th>\n",
       "      <td>19964.310547</td>\n",
       "      <td>19943.460938</td>\n",
       "      <td>19945.039063</td>\n",
       "      <td>19980.240234</td>\n",
       "      <td>19939.800781</td>\n",
       "      <td>158540000.0</td>\n",
       "      <td>19942.862110</td>\n",
       "      <td>19613.710473</td>\n",
       "      <td>17900.654254</td>\n",
       "      <td>1.016782</td>\n",
       "      <td>...</td>\n",
       "      <td>0.060066</td>\n",
       "      <td>0.022202</td>\n",
       "      <td>0.369636</td>\n",
       "      <td>6.011245e+07</td>\n",
       "      <td>1.277054e+08</td>\n",
       "      <td>6.798300e+07</td>\n",
       "      <td>0.470712</td>\n",
       "      <td>0.884228</td>\n",
       "      <td>1.878490</td>\n",
       "      <td>19833.679688</td>\n",
       "    </tr>\n",
       "    <tr>\n",
       "      <th>2016-12-29</th>\n",
       "      <td>19835.460938</td>\n",
       "      <td>19964.310547</td>\n",
       "      <td>19833.679688</td>\n",
       "      <td>19981.109375</td>\n",
       "      <td>19827.310547</td>\n",
       "      <td>188350000.0</td>\n",
       "      <td>19914.674219</td>\n",
       "      <td>19648.747582</td>\n",
       "      <td>17909.037981</td>\n",
       "      <td>1.013534</td>\n",
       "      <td>...</td>\n",
       "      <td>0.144132</td>\n",
       "      <td>0.049967</td>\n",
       "      <td>0.346677</td>\n",
       "      <td>5.030421e+07</td>\n",
       "      <td>1.223833e+08</td>\n",
       "      <td>6.807518e+07</td>\n",
       "      <td>0.411038</td>\n",
       "      <td>0.738951</td>\n",
       "      <td>1.797767</td>\n",
       "      <td>19819.779297</td>\n",
       "    </tr>\n",
       "    <tr>\n",
       "      <th>2016-12-30</th>\n",
       "      <td>19833.169922</td>\n",
       "      <td>19835.460938</td>\n",
       "      <td>19819.779297</td>\n",
       "      <td>19878.439453</td>\n",
       "      <td>19788.939453</td>\n",
       "      <td>172040000.0</td>\n",
       "      <td>19890.237891</td>\n",
       "      <td>19681.994234</td>\n",
       "      <td>17917.831276</td>\n",
       "      <td>1.010580</td>\n",
       "      <td>...</td>\n",
       "      <td>0.196362</td>\n",
       "      <td>0.062940</td>\n",
       "      <td>0.320531</td>\n",
       "      <td>4.166474e+07</td>\n",
       "      <td>1.167265e+08</td>\n",
       "      <td>6.807269e+07</td>\n",
       "      <td>0.356943</td>\n",
       "      <td>0.612062</td>\n",
       "      <td>1.714734</td>\n",
       "      <td>19762.599609</td>\n",
       "    </tr>\n",
       "  </tbody>\n",
       "</table>\n",
       "<p>7058 rows × 31 columns</p>\n",
       "</div>"
      ],
      "text/plain": [
       "                    open        open_1       close_1        high_1  \\\n",
       "Date                                                                 \n",
       "1988-12-30   2183.389893   2169.110107   2182.679932   2193.040039   \n",
       "1989-01-03   2163.209961   2183.389893   2168.570068   2193.750000   \n",
       "1989-01-04   2153.750000   2163.209961   2144.639893   2168.389893   \n",
       "1989-01-05   2184.290039   2153.750000   2177.679932   2183.389893   \n",
       "1989-01-06   2195.889893   2184.290039   2190.540039   2205.179932   \n",
       "...                  ...           ...           ...           ...   \n",
       "2016-12-23  19908.609375  19922.679688  19918.880859  19933.830078   \n",
       "2016-12-27  19943.460938  19908.609375  19933.810547  19934.150391   \n",
       "2016-12-28  19964.310547  19943.460938  19945.039063  19980.240234   \n",
       "2016-12-29  19835.460938  19964.310547  19833.679688  19981.109375   \n",
       "2016-12-30  19833.169922  19835.460938  19819.779297  19878.439453   \n",
       "\n",
       "                   low_1     volume_1  Average Price_5  Average Price_30  \\\n",
       "Date                                                                       \n",
       "1988-12-30   2165.179932   12220000.0      2168.215967       2146.005697   \n",
       "1989-01-03   2162.500000   11140000.0      2169.857959       2148.579985   \n",
       "1989-01-04   2127.139893   17310000.0      2164.999951       2150.616176   \n",
       "1989-01-05   2146.610107   15710000.0      2167.999951       2154.682838   \n",
       "1989-01-06   2173.040039   20310000.0      2172.821973       2157.862840   \n",
       "...                  ...          ...              ...               ...   \n",
       "2016-12-23  19882.189453  258290000.0     19912.386328      19535.447173   \n",
       "2016-12-27  19899.060547  158260000.0     19930.466406      19575.953404   \n",
       "2016-12-28  19939.800781  158540000.0     19942.862110      19613.710473   \n",
       "2016-12-29  19827.310547  188350000.0     19914.674219      19648.747582   \n",
       "2016-12-30  19788.939453  172040000.0     19890.237891      19681.994234   \n",
       "\n",
       "            Average Price_365  Ratio Average Price_5_30  ...  \\\n",
       "Date                                                     ...   \n",
       "1988-12-30        2061.050753                  1.010350  ...   \n",
       "1989-01-03        2061.659166                  1.009903  ...   \n",
       "1989-01-04        2062.108134                  1.006688  ...   \n",
       "1989-01-05        2062.663213                  1.006181  ...   \n",
       "1989-01-06        2063.213412                  1.006932  ...   \n",
       "...                       ...                       ...  ...   \n",
       "2016-12-23       17881.612944                  1.019295  ...   \n",
       "2016-12-27       17891.063899                  1.018110  ...   \n",
       "2016-12-28       17900.654254                  1.016782  ...   \n",
       "2016-12-29       17909.037981                  1.013534  ...   \n",
       "2016-12-30       17917.831276                  1.010580  ...   \n",
       "\n",
       "            Ratio Std Deviation Price_5_30  Ratio Std Deviation Price_5_365  \\\n",
       "Date                                                                          \n",
       "1988-12-30                        0.372085                         0.123335   \n",
       "1989-01-03                        0.332631                         0.106706   \n",
       "1989-01-04                        0.677084                         0.191809   \n",
       "1989-01-05                        0.914097                         0.204474   \n",
       "1989-01-06                        1.089841                         0.245020   \n",
       "...                                    ...                              ...   \n",
       "2016-12-23                        0.145161                         0.056500   \n",
       "2016-12-27                        0.096765                         0.036682   \n",
       "2016-12-28                        0.060066                         0.022202   \n",
       "2016-12-29                        0.144132                         0.049967   \n",
       "2016-12-30                        0.196362                         0.062940   \n",
       "\n",
       "            Ratio Std Deviation Price_30_365  Std Volume_5  Std Volume_30  \\\n",
       "Date                                                                        \n",
       "1988-12-30                          0.331471  4.260343e+06   4.572098e+06   \n",
       "1989-01-03                          0.320794  2.605936e+06   4.627472e+06   \n",
       "1989-01-04                          0.283287  3.633685e+06   4.665697e+06   \n",
       "1989-01-05                          0.223690  3.057422e+06   4.671999e+06   \n",
       "1989-01-06                          0.224822  3.744766e+06   4.825499e+06   \n",
       "...                                      ...           ...            ...   \n",
       "2016-12-23                          0.389224  1.346794e+08   1.389864e+08   \n",
       "2016-12-27                          0.379081  5.569665e+07   1.347603e+08   \n",
       "2016-12-28                          0.369636  6.011245e+07   1.277054e+08   \n",
       "2016-12-29                          0.346677  5.030421e+07   1.223833e+08   \n",
       "2016-12-30                          0.320531  4.166474e+07   1.167265e+08   \n",
       "\n",
       "            Std Volume_365  Ratio Std Volume_5_30  Ratio Std Volume_5_365  \\\n",
       "Date                                                                        \n",
       "1988-12-30    6.461774e+06               0.931814                0.659315   \n",
       "1989-01-03    6.476618e+06               0.563145                0.402361   \n",
       "1989-01-04    6.453401e+06               0.778809                0.563065   \n",
       "1989-01-05    6.455623e+06               0.654414                0.473606   \n",
       "1989-01-06    6.454034e+06               0.776037                0.580221   \n",
       "...                    ...                    ...                     ...   \n",
       "2016-12-23    6.812711e+07               0.969011                1.976884   \n",
       "2016-12-27    6.801908e+07               0.413302                0.818839   \n",
       "2016-12-28    6.798300e+07               0.470712                0.884228   \n",
       "2016-12-29    6.807518e+07               0.411038                0.738951   \n",
       "2016-12-30    6.807269e+07               0.356943                0.612062   \n",
       "\n",
       "            Ratio Std Volume_30_365         close  \n",
       "Date                                               \n",
       "1988-12-30                 0.707561   2168.570068  \n",
       "1989-01-03                 0.714489   2144.639893  \n",
       "1989-01-04                 0.722983   2177.679932  \n",
       "1989-01-05                 0.723710   2190.540039  \n",
       "1989-01-06                 0.747672   2194.290039  \n",
       "...                             ...           ...  \n",
       "2016-12-23                 2.040104  19933.810547  \n",
       "2016-12-27                 1.981214  19945.039063  \n",
       "2016-12-28                 1.878490  19833.679688  \n",
       "2016-12-29                 1.797767  19819.779297  \n",
       "2016-12-30                 1.714734  19762.599609  \n",
       "\n",
       "[7058 rows x 31 columns]"
      ]
     },
     "execution_count": 11,
     "metadata": {},
     "output_type": "execute_result"
    }
   ],
   "source": [
    "newdf= generate_features(df)\n",
    "newdf"
   ]
  },
  {
   "cell_type": "code",
   "execution_count": 12,
   "id": "330bb04d",
   "metadata": {},
   "outputs": [
    {
     "data": {
      "text/plain": [
       "open                                0\n",
       "open_1                              0\n",
       "close_1                             0\n",
       "high_1                              0\n",
       "low_1                               0\n",
       "volume_1                            0\n",
       "Average Price_5                     0\n",
       "Average Price_30                    0\n",
       "Average Price_365                   0\n",
       "Ratio Average Price_5_30            0\n",
       "Ratio Average Price_5_365           0\n",
       "Ratio Average Price_30_365          0\n",
       "Average Volume_5                    0\n",
       "Average Volume_30                   0\n",
       "Average Volume_365                  0\n",
       "Ratio Average Volume_5_30           0\n",
       "Ratio Average Volume_5_365          0\n",
       "Ratio Average Volume30_365          0\n",
       "Std Deviation Price_5               0\n",
       "Std Deviation Price_30              0\n",
       "Std Deviation Price_365             0\n",
       "Ratio Std Deviation Price_5_30      0\n",
       "Ratio Std Deviation Price_5_365     0\n",
       "Ratio Std Deviation Price_30_365    0\n",
       "Std Volume_5                        0\n",
       "Std Volume_30                       0\n",
       "Std Volume_365                      0\n",
       "Ratio Std Volume_5_30               0\n",
       "Ratio Std Volume_5_365              0\n",
       "Ratio Std Volume_30_365             0\n",
       "close                               0\n",
       "dtype: int64"
      ]
     },
     "execution_count": 12,
     "metadata": {},
     "output_type": "execute_result"
    }
   ],
   "source": [
    "newdf.isnull().sum()"
   ]
  },
  {
   "cell_type": "markdown",
   "id": "7d2716d4",
   "metadata": {},
   "source": [
    "#  Dividing the data into dependent and independent features."
   ]
  },
  {
   "cell_type": "code",
   "execution_count": 13,
   "id": "5e935cb0",
   "metadata": {},
   "outputs": [],
   "source": [
    "X = newdf.drop('close',axis=1)\n",
    "y = newdf['close']"
   ]
  },
  {
   "cell_type": "code",
   "execution_count": 14,
   "id": "41cc2888",
   "metadata": {},
   "outputs": [
    {
     "data": {
      "text/html": [
       "<div>\n",
       "<style scoped>\n",
       "    .dataframe tbody tr th:only-of-type {\n",
       "        vertical-align: middle;\n",
       "    }\n",
       "\n",
       "    .dataframe tbody tr th {\n",
       "        vertical-align: top;\n",
       "    }\n",
       "\n",
       "    .dataframe thead th {\n",
       "        text-align: right;\n",
       "    }\n",
       "</style>\n",
       "<table border=\"1\" class=\"dataframe\">\n",
       "  <thead>\n",
       "    <tr style=\"text-align: right;\">\n",
       "      <th></th>\n",
       "      <th>open</th>\n",
       "      <th>open_1</th>\n",
       "      <th>close_1</th>\n",
       "      <th>high_1</th>\n",
       "      <th>low_1</th>\n",
       "      <th>volume_1</th>\n",
       "      <th>Average Price_5</th>\n",
       "      <th>Average Price_30</th>\n",
       "      <th>Average Price_365</th>\n",
       "      <th>Ratio Average Price_5_30</th>\n",
       "      <th>...</th>\n",
       "      <th>Std Deviation Price_365</th>\n",
       "      <th>Ratio Std Deviation Price_5_30</th>\n",
       "      <th>Ratio Std Deviation Price_5_365</th>\n",
       "      <th>Ratio Std Deviation Price_30_365</th>\n",
       "      <th>Std Volume_5</th>\n",
       "      <th>Std Volume_30</th>\n",
       "      <th>Std Volume_365</th>\n",
       "      <th>Ratio Std Volume_5_30</th>\n",
       "      <th>Ratio Std Volume_5_365</th>\n",
       "      <th>Ratio Std Volume_30_365</th>\n",
       "    </tr>\n",
       "    <tr>\n",
       "      <th>Date</th>\n",
       "      <th></th>\n",
       "      <th></th>\n",
       "      <th></th>\n",
       "      <th></th>\n",
       "      <th></th>\n",
       "      <th></th>\n",
       "      <th></th>\n",
       "      <th></th>\n",
       "      <th></th>\n",
       "      <th></th>\n",
       "      <th></th>\n",
       "      <th></th>\n",
       "      <th></th>\n",
       "      <th></th>\n",
       "      <th></th>\n",
       "      <th></th>\n",
       "      <th></th>\n",
       "      <th></th>\n",
       "      <th></th>\n",
       "      <th></th>\n",
       "      <th></th>\n",
       "    </tr>\n",
       "  </thead>\n",
       "  <tbody>\n",
       "    <tr>\n",
       "      <th>1988-12-30</th>\n",
       "      <td>2183.389893</td>\n",
       "      <td>2169.110107</td>\n",
       "      <td>2182.679932</td>\n",
       "      <td>2193.040039</td>\n",
       "      <td>2165.179932</td>\n",
       "      <td>12220000.0</td>\n",
       "      <td>2168.215967</td>\n",
       "      <td>2146.005697</td>\n",
       "      <td>2061.050753</td>\n",
       "      <td>1.010350</td>\n",
       "      <td>...</td>\n",
       "      <td>70.830944</td>\n",
       "      <td>0.372085</td>\n",
       "      <td>0.123335</td>\n",
       "      <td>0.331471</td>\n",
       "      <td>4.260343e+06</td>\n",
       "      <td>4.572098e+06</td>\n",
       "      <td>6.461774e+06</td>\n",
       "      <td>0.931814</td>\n",
       "      <td>0.659315</td>\n",
       "      <td>0.707561</td>\n",
       "    </tr>\n",
       "    <tr>\n",
       "      <th>1989-01-03</th>\n",
       "      <td>2163.209961</td>\n",
       "      <td>2183.389893</td>\n",
       "      <td>2168.570068</td>\n",
       "      <td>2193.750000</td>\n",
       "      <td>2162.500000</td>\n",
       "      <td>11140000.0</td>\n",
       "      <td>2169.857959</td>\n",
       "      <td>2148.579985</td>\n",
       "      <td>2061.659166</td>\n",
       "      <td>1.009903</td>\n",
       "      <td>...</td>\n",
       "      <td>71.093959</td>\n",
       "      <td>0.332631</td>\n",
       "      <td>0.106706</td>\n",
       "      <td>0.320794</td>\n",
       "      <td>2.605936e+06</td>\n",
       "      <td>4.627472e+06</td>\n",
       "      <td>6.476618e+06</td>\n",
       "      <td>0.563145</td>\n",
       "      <td>0.402361</td>\n",
       "      <td>0.714489</td>\n",
       "    </tr>\n",
       "    <tr>\n",
       "      <th>1989-01-04</th>\n",
       "      <td>2153.750000</td>\n",
       "      <td>2163.209961</td>\n",
       "      <td>2144.639893</td>\n",
       "      <td>2168.389893</td>\n",
       "      <td>2127.139893</td>\n",
       "      <td>17310000.0</td>\n",
       "      <td>2164.999951</td>\n",
       "      <td>2150.616176</td>\n",
       "      <td>2062.108134</td>\n",
       "      <td>1.006688</td>\n",
       "      <td>...</td>\n",
       "      <td>71.259794</td>\n",
       "      <td>0.677084</td>\n",
       "      <td>0.191809</td>\n",
       "      <td>0.283287</td>\n",
       "      <td>3.633685e+06</td>\n",
       "      <td>4.665697e+06</td>\n",
       "      <td>6.453401e+06</td>\n",
       "      <td>0.778809</td>\n",
       "      <td>0.563065</td>\n",
       "      <td>0.722983</td>\n",
       "    </tr>\n",
       "    <tr>\n",
       "      <th>1989-01-05</th>\n",
       "      <td>2184.290039</td>\n",
       "      <td>2153.750000</td>\n",
       "      <td>2177.679932</td>\n",
       "      <td>2183.389893</td>\n",
       "      <td>2146.610107</td>\n",
       "      <td>15710000.0</td>\n",
       "      <td>2167.999951</td>\n",
       "      <td>2154.682838</td>\n",
       "      <td>2062.663213</td>\n",
       "      <td>1.006181</td>\n",
       "      <td>...</td>\n",
       "      <td>71.613611</td>\n",
       "      <td>0.914097</td>\n",
       "      <td>0.204474</td>\n",
       "      <td>0.223690</td>\n",
       "      <td>3.057422e+06</td>\n",
       "      <td>4.671999e+06</td>\n",
       "      <td>6.455623e+06</td>\n",
       "      <td>0.654414</td>\n",
       "      <td>0.473606</td>\n",
       "      <td>0.723710</td>\n",
       "    </tr>\n",
       "    <tr>\n",
       "      <th>1989-01-06</th>\n",
       "      <td>2195.889893</td>\n",
       "      <td>2184.290039</td>\n",
       "      <td>2190.540039</td>\n",
       "      <td>2205.179932</td>\n",
       "      <td>2173.040039</td>\n",
       "      <td>20310000.0</td>\n",
       "      <td>2172.821973</td>\n",
       "      <td>2157.862840</td>\n",
       "      <td>2063.213412</td>\n",
       "      <td>1.006932</td>\n",
       "      <td>...</td>\n",
       "      <td>72.061726</td>\n",
       "      <td>1.089841</td>\n",
       "      <td>0.245020</td>\n",
       "      <td>0.224822</td>\n",
       "      <td>3.744766e+06</td>\n",
       "      <td>4.825499e+06</td>\n",
       "      <td>6.454034e+06</td>\n",
       "      <td>0.776037</td>\n",
       "      <td>0.580221</td>\n",
       "      <td>0.747672</td>\n",
       "    </tr>\n",
       "  </tbody>\n",
       "</table>\n",
       "<p>5 rows × 30 columns</p>\n",
       "</div>"
      ],
      "text/plain": [
       "                   open       open_1      close_1       high_1        low_1  \\\n",
       "Date                                                                          \n",
       "1988-12-30  2183.389893  2169.110107  2182.679932  2193.040039  2165.179932   \n",
       "1989-01-03  2163.209961  2183.389893  2168.570068  2193.750000  2162.500000   \n",
       "1989-01-04  2153.750000  2163.209961  2144.639893  2168.389893  2127.139893   \n",
       "1989-01-05  2184.290039  2153.750000  2177.679932  2183.389893  2146.610107   \n",
       "1989-01-06  2195.889893  2184.290039  2190.540039  2205.179932  2173.040039   \n",
       "\n",
       "              volume_1  Average Price_5  Average Price_30  Average Price_365  \\\n",
       "Date                                                                           \n",
       "1988-12-30  12220000.0      2168.215967       2146.005697        2061.050753   \n",
       "1989-01-03  11140000.0      2169.857959       2148.579985        2061.659166   \n",
       "1989-01-04  17310000.0      2164.999951       2150.616176        2062.108134   \n",
       "1989-01-05  15710000.0      2167.999951       2154.682838        2062.663213   \n",
       "1989-01-06  20310000.0      2172.821973       2157.862840        2063.213412   \n",
       "\n",
       "            Ratio Average Price_5_30  ...  Std Deviation Price_365  \\\n",
       "Date                                  ...                            \n",
       "1988-12-30                  1.010350  ...                70.830944   \n",
       "1989-01-03                  1.009903  ...                71.093959   \n",
       "1989-01-04                  1.006688  ...                71.259794   \n",
       "1989-01-05                  1.006181  ...                71.613611   \n",
       "1989-01-06                  1.006932  ...                72.061726   \n",
       "\n",
       "            Ratio Std Deviation Price_5_30  Ratio Std Deviation Price_5_365  \\\n",
       "Date                                                                          \n",
       "1988-12-30                        0.372085                         0.123335   \n",
       "1989-01-03                        0.332631                         0.106706   \n",
       "1989-01-04                        0.677084                         0.191809   \n",
       "1989-01-05                        0.914097                         0.204474   \n",
       "1989-01-06                        1.089841                         0.245020   \n",
       "\n",
       "            Ratio Std Deviation Price_30_365  Std Volume_5  Std Volume_30  \\\n",
       "Date                                                                        \n",
       "1988-12-30                          0.331471  4.260343e+06   4.572098e+06   \n",
       "1989-01-03                          0.320794  2.605936e+06   4.627472e+06   \n",
       "1989-01-04                          0.283287  3.633685e+06   4.665697e+06   \n",
       "1989-01-05                          0.223690  3.057422e+06   4.671999e+06   \n",
       "1989-01-06                          0.224822  3.744766e+06   4.825499e+06   \n",
       "\n",
       "            Std Volume_365  Ratio Std Volume_5_30  Ratio Std Volume_5_365  \\\n",
       "Date                                                                        \n",
       "1988-12-30    6.461774e+06               0.931814                0.659315   \n",
       "1989-01-03    6.476618e+06               0.563145                0.402361   \n",
       "1989-01-04    6.453401e+06               0.778809                0.563065   \n",
       "1989-01-05    6.455623e+06               0.654414                0.473606   \n",
       "1989-01-06    6.454034e+06               0.776037                0.580221   \n",
       "\n",
       "            Ratio Std Volume_30_365  \n",
       "Date                                 \n",
       "1988-12-30                 0.707561  \n",
       "1989-01-03                 0.714489  \n",
       "1989-01-04                 0.722983  \n",
       "1989-01-05                 0.723710  \n",
       "1989-01-06                 0.747672  \n",
       "\n",
       "[5 rows x 30 columns]"
      ]
     },
     "execution_count": 14,
     "metadata": {},
     "output_type": "execute_result"
    }
   ],
   "source": [
    "X.head()"
   ]
  },
  {
   "cell_type": "code",
   "execution_count": 15,
   "id": "ec89d2ec",
   "metadata": {},
   "outputs": [
    {
     "data": {
      "text/plain": [
       "Date\n",
       "1988-12-30    2168.570068\n",
       "1989-01-03    2144.639893\n",
       "1989-01-04    2177.679932\n",
       "1989-01-05    2190.540039\n",
       "1989-01-06    2194.290039\n",
       "Name: close, dtype: float64"
      ]
     },
     "execution_count": 15,
     "metadata": {},
     "output_type": "execute_result"
    }
   ],
   "source": [
    "y.head()"
   ]
  },
  {
   "cell_type": "markdown",
   "id": "2941f700",
   "metadata": {},
   "source": [
    "# Splitting the data into training and testing sets."
   ]
  },
  {
   "cell_type": "code",
   "execution_count": 16,
   "id": "4e98faea",
   "metadata": {},
   "outputs": [],
   "source": [
    "from sklearn.model_selection import train_test_split"
   ]
  },
  {
   "cell_type": "code",
   "execution_count": 17,
   "id": "0ca1bb8a",
   "metadata": {},
   "outputs": [
    {
     "data": {
      "text/plain": [
       "((4940, 30), (4940,), (2118, 30), (2118,))"
      ]
     },
     "execution_count": 17,
     "metadata": {},
     "output_type": "execute_result"
    }
   ],
   "source": [
    "X_train , X_test , y_train , y_test = train_test_split(X,y,test_size=0.3,random_state=100)\n",
    "X_train.shape , y_train.shape , X_test.shape , y_test.shape"
   ]
  },
  {
   "cell_type": "markdown",
   "id": "c54c2ce0",
   "metadata": {},
   "source": [
    "# Apply Normalization and train the model using LinearRegression"
   ]
  },
  {
   "cell_type": "code",
   "execution_count": 18,
   "id": "27933943",
   "metadata": {},
   "outputs": [
    {
     "data": {
      "text/plain": [
       "LinearRegression(normalize=True)"
      ]
     },
     "execution_count": 18,
     "metadata": {},
     "output_type": "execute_result"
    }
   ],
   "source": [
    "from sklearn.linear_model import LinearRegression\n",
    "from sklearn.preprocessing import StandardScaler\n",
    "sc = StandardScaler()\n",
    "\n",
    "X_train = sc.fit_transform(X_train)\n",
    "X_test = sc.transform(X_test)\n",
    "\n",
    "lr = LinearRegression(normalize=True)\n",
    "\n",
    "#As you need to predict a numeral value based on some parameters, you will have to use Linear Regression.\n",
    "#The model needs to learn on your training set. This is done by using the '.fit' command:\n",
    "\n",
    "lr.fit(X_train,y_train)"
   ]
  },
  {
   "cell_type": "code",
   "execution_count": 19,
   "id": "82aa8cbb",
   "metadata": {},
   "outputs": [
    {
     "data": {
      "text/plain": [
       "array([13264.84073244, 12765.12286789, 15023.20938207, ...,\n",
       "        8762.52554483,  3281.40454248, 12355.16891067])"
      ]
     },
     "execution_count": 19,
     "metadata": {},
     "output_type": "execute_result"
    }
   ],
   "source": [
    "pred = lr.predict(X_test)\n",
    "pred"
   ]
  },
  {
   "cell_type": "code",
   "execution_count": 20,
   "id": "61d3bd00",
   "metadata": {},
   "outputs": [
    {
     "data": {
      "text/plain": [
       "Date\n",
       "2007-05-07    13312.969727\n",
       "2008-04-24    12848.950195\n",
       "2013-08-26    14946.459961\n",
       "2008-06-18    12029.059570\n",
       "1998-02-02     8107.779785\n",
       "                  ...     \n",
       "2010-08-12    10319.950195\n",
       "2011-03-04    12169.879883\n",
       "2003-05-28     8793.120117\n",
       "1992-06-19     3285.399902\n",
       "2012-01-09    12392.690430\n",
       "Name: close, Length: 2118, dtype: float64"
      ]
     },
     "execution_count": 20,
     "metadata": {},
     "output_type": "execute_result"
    }
   ],
   "source": [
    "y_test"
   ]
  },
  {
   "cell_type": "markdown",
   "id": "f17c80d7",
   "metadata": {},
   "source": [
    "Now we compare the actual values with the ones which the model predicted."
   ]
  },
  {
   "cell_type": "code",
   "execution_count": 21,
   "id": "e309c07f",
   "metadata": {},
   "outputs": [
    {
     "data": {
      "text/html": [
       "<div>\n",
       "<style scoped>\n",
       "    .dataframe tbody tr th:only-of-type {\n",
       "        vertical-align: middle;\n",
       "    }\n",
       "\n",
       "    .dataframe tbody tr th {\n",
       "        vertical-align: top;\n",
       "    }\n",
       "\n",
       "    .dataframe thead th {\n",
       "        text-align: right;\n",
       "    }\n",
       "</style>\n",
       "<table border=\"1\" class=\"dataframe\">\n",
       "  <thead>\n",
       "    <tr style=\"text-align: right;\">\n",
       "      <th></th>\n",
       "      <th>Actual</th>\n",
       "      <th>Predicted</th>\n",
       "    </tr>\n",
       "    <tr>\n",
       "      <th>Date</th>\n",
       "      <th></th>\n",
       "      <th></th>\n",
       "    </tr>\n",
       "  </thead>\n",
       "  <tbody>\n",
       "    <tr>\n",
       "      <th>2007-05-07</th>\n",
       "      <td>13312.969727</td>\n",
       "      <td>13264.840732</td>\n",
       "    </tr>\n",
       "    <tr>\n",
       "      <th>2008-04-24</th>\n",
       "      <td>12848.950195</td>\n",
       "      <td>12765.122868</td>\n",
       "    </tr>\n",
       "    <tr>\n",
       "      <th>2013-08-26</th>\n",
       "      <td>14946.459961</td>\n",
       "      <td>15023.209382</td>\n",
       "    </tr>\n",
       "    <tr>\n",
       "      <th>2008-06-18</th>\n",
       "      <td>12029.059570</td>\n",
       "      <td>12159.784408</td>\n",
       "    </tr>\n",
       "    <tr>\n",
       "      <th>1998-02-02</th>\n",
       "      <td>8107.779785</td>\n",
       "      <td>7916.125787</td>\n",
       "    </tr>\n",
       "    <tr>\n",
       "      <th>...</th>\n",
       "      <td>...</td>\n",
       "      <td>...</td>\n",
       "    </tr>\n",
       "    <tr>\n",
       "      <th>2010-08-12</th>\n",
       "      <td>10319.950195</td>\n",
       "      <td>10346.276766</td>\n",
       "    </tr>\n",
       "    <tr>\n",
       "      <th>2011-03-04</th>\n",
       "      <td>12169.879883</td>\n",
       "      <td>12269.958209</td>\n",
       "    </tr>\n",
       "    <tr>\n",
       "      <th>2003-05-28</th>\n",
       "      <td>8793.120117</td>\n",
       "      <td>8762.525545</td>\n",
       "    </tr>\n",
       "    <tr>\n",
       "      <th>1992-06-19</th>\n",
       "      <td>3285.399902</td>\n",
       "      <td>3281.404542</td>\n",
       "    </tr>\n",
       "    <tr>\n",
       "      <th>2012-01-09</th>\n",
       "      <td>12392.690430</td>\n",
       "      <td>12355.168911</td>\n",
       "    </tr>\n",
       "  </tbody>\n",
       "</table>\n",
       "<p>2118 rows × 2 columns</p>\n",
       "</div>"
      ],
      "text/plain": [
       "                  Actual     Predicted\n",
       "Date                                  \n",
       "2007-05-07  13312.969727  13264.840732\n",
       "2008-04-24  12848.950195  12765.122868\n",
       "2013-08-26  14946.459961  15023.209382\n",
       "2008-06-18  12029.059570  12159.784408\n",
       "1998-02-02   8107.779785   7916.125787\n",
       "...                  ...           ...\n",
       "2010-08-12  10319.950195  10346.276766\n",
       "2011-03-04  12169.879883  12269.958209\n",
       "2003-05-28   8793.120117   8762.525545\n",
       "1992-06-19   3285.399902   3281.404542\n",
       "2012-01-09  12392.690430  12355.168911\n",
       "\n",
       "[2118 rows x 2 columns]"
      ]
     },
     "execution_count": 21,
     "metadata": {},
     "output_type": "execute_result"
    }
   ],
   "source": [
    "frame = pd.DataFrame({\"Actual\" : y_test , \"Predicted\" : pred})\n",
    "frame"
   ]
  },
  {
   "cell_type": "code",
   "execution_count": 22,
   "id": "317c0307",
   "metadata": {},
   "outputs": [],
   "source": [
    "from sklearn.metrics import mean_absolute_error\n",
    "from sklearn.metrics import mean_squared_error\n",
    "import math"
   ]
  },
  {
   "cell_type": "code",
   "execution_count": 23,
   "id": "7171a426",
   "metadata": {},
   "outputs": [
    {
     "name": "stdout",
     "output_type": "stream",
     "text": [
      "Mean Absoulte Error: 65.8927382854135\n",
      "Mean Squared Error: 9869.07779894268\n",
      "Root Mean Squared Error: 99.34323227549363\n",
      "R^2 Score: 0.9995104733638424\n"
     ]
    }
   ],
   "source": [
    "print(\"Mean Absoulte Error:\",mean_absolute_error(y_test,pred))\n",
    "print(\"Mean Squared Error:\",mean_squared_error(y_test,pred))\n",
    "print(\"Root Mean Squared Error:\",math.sqrt(mean_squared_error(y_test,pred)))\n",
    "print(\"R^2 Score:\",r2_score(y_test, pred))"
   ]
  },
  {
   "cell_type": "code",
   "execution_count": 24,
   "id": "8198760a",
   "metadata": {},
   "outputs": [
    {
     "data": {
      "text/plain": [
       "0.9994649810444398"
      ]
     },
     "execution_count": 24,
     "metadata": {},
     "output_type": "execute_result"
    }
   ],
   "source": [
    "lr.score(X_train, y_train)"
   ]
  },
  {
   "cell_type": "code",
   "execution_count": 25,
   "id": "f63e475d",
   "metadata": {},
   "outputs": [
    {
     "data": {
      "image/png": "[encoded data removed]",
      "text/plain": [
       "<Figure size 800x500 with 1 Axes>"
      ]
     },
     "metadata": {
      "needs_background": "light"
     },
     "output_type": "display_data"
    }
   ],
   "source": [
    "plt.figure(figsize=(8,5), dpi=100)\n",
    "\n",
    "plt.plot(y_test, y_test, 'r--',label='ACTUAL') \n",
    "plt.plot(y_test, pred, 'b--',label='PREDICTED')\n",
    "\n",
    "plt.title('Linear Regression!', fontdict={'fontname': 'Arial', 'fontsize': 20})\n",
    "plt.xlabel('X Axis')\n",
    "plt.ylabel('Y Axis')\n",
    "plt.legend()\n",
    "plt.show()"
   ]
  },
  {
   "cell_type": "markdown",
   "id": "9c1639c0",
   "metadata": {},
   "source": [
    "# LinearRegression always uses the least-squares as a loss function.\n"
   ]
  },
  {
   "cell_type": "markdown",
   "id": "40b063e6",
   "metadata": {},
   "source": [
    "# For SGDRegressor you can specify a loss function and it uses Stochastic Gradient Descent (SGD) to fit."
   ]
  },
  {
   "cell_type": "code",
   "execution_count": 26,
   "id": "38ed0b47",
   "metadata": {},
   "outputs": [
    {
     "name": "stdout",
     "output_type": "stream",
     "text": [
      "{'alpha': 3e-05, 'eta0': 0.03}\n"
     ]
    }
   ],
   "source": [
    "from sklearn.linear_model import SGDRegressor\n",
    "from sklearn.model_selection import GridSearchCV\n",
    "from sklearn.metrics import mean_squared_error, mean_absolute_error, r2_score\n",
    "\n",
    "scaler=StandardScaler()\n",
    "X_scaled_train= scaler.fit_transform(X_train)\n",
    "X_scaled_test=scaler.transform(X_test)\n",
    "\n",
    "#In machine learning, a hyperparameter is a parameter whose value is used to control the learning process.\n",
    "param_grid={\n",
    "    \"alpha\":[1e-5,3e-5,1e-4],\n",
    "    \"eta0\":[0.01,0.03,0.1]\n",
    "}\n",
    "\n",
    "# l1, l2\n",
    "\n",
    "from sklearn.linear_model import SGDRegressor\n",
    "\n",
    "lr=SGDRegressor(penalty=\"l2\", max_iter=100)\n",
    "grid_search= GridSearchCV(lr, param_grid, cv=5, scoring=\"r2\")\n",
    "grid_search.fit(X_scaled_train, y_train)\n",
    "\n",
    "print(grid_search.best_params_)"
   ]
  },
  {
   "cell_type": "code",
   "execution_count": 27,
   "id": "906e250f",
   "metadata": {},
   "outputs": [],
   "source": [
    "lr_best= grid_search.best_estimator_\n",
    "\n",
    "predictions_lr= lr_best.predict(X_test)"
   ]
  },
  {
   "cell_type": "markdown",
   "id": "aff02324",
   "metadata": {},
   "source": [
    "# Comparing predicted and actual values :"
   ]
  },
  {
   "cell_type": "code",
   "execution_count": 28,
   "id": "5f749c60",
   "metadata": {},
   "outputs": [
    {
     "data": {
      "text/html": [
       "<div>\n",
       "<style scoped>\n",
       "    .dataframe tbody tr th:only-of-type {\n",
       "        vertical-align: middle;\n",
       "    }\n",
       "\n",
       "    .dataframe tbody tr th {\n",
       "        vertical-align: top;\n",
       "    }\n",
       "\n",
       "    .dataframe thead th {\n",
       "        text-align: right;\n",
       "    }\n",
       "</style>\n",
       "<table border=\"1\" class=\"dataframe\">\n",
       "  <thead>\n",
       "    <tr style=\"text-align: right;\">\n",
       "      <th></th>\n",
       "      <th>Actual</th>\n",
       "      <th>Predicted</th>\n",
       "    </tr>\n",
       "    <tr>\n",
       "      <th>Date</th>\n",
       "      <th></th>\n",
       "      <th></th>\n",
       "    </tr>\n",
       "  </thead>\n",
       "  <tbody>\n",
       "    <tr>\n",
       "      <th>2007-05-07</th>\n",
       "      <td>13312.969727</td>\n",
       "      <td>13258.470262</td>\n",
       "    </tr>\n",
       "    <tr>\n",
       "      <th>2008-04-24</th>\n",
       "      <td>12848.950195</td>\n",
       "      <td>12758.448175</td>\n",
       "    </tr>\n",
       "    <tr>\n",
       "      <th>2013-08-26</th>\n",
       "      <td>14946.459961</td>\n",
       "      <td>15009.308839</td>\n",
       "    </tr>\n",
       "    <tr>\n",
       "      <th>2008-06-18</th>\n",
       "      <td>12029.059570</td>\n",
       "      <td>12204.997430</td>\n",
       "    </tr>\n",
       "    <tr>\n",
       "      <th>1998-02-02</th>\n",
       "      <td>8107.779785</td>\n",
       "      <td>7904.545660</td>\n",
       "    </tr>\n",
       "    <tr>\n",
       "      <th>...</th>\n",
       "      <td>...</td>\n",
       "      <td>...</td>\n",
       "    </tr>\n",
       "    <tr>\n",
       "      <th>2010-08-12</th>\n",
       "      <td>10319.950195</td>\n",
       "      <td>10472.245344</td>\n",
       "    </tr>\n",
       "    <tr>\n",
       "      <th>2011-03-04</th>\n",
       "      <td>12169.879883</td>\n",
       "      <td>12202.286268</td>\n",
       "    </tr>\n",
       "    <tr>\n",
       "      <th>2003-05-28</th>\n",
       "      <td>8793.120117</td>\n",
       "      <td>8664.007465</td>\n",
       "    </tr>\n",
       "    <tr>\n",
       "      <th>1992-06-19</th>\n",
       "      <td>3285.399902</td>\n",
       "      <td>3269.911231</td>\n",
       "    </tr>\n",
       "    <tr>\n",
       "      <th>2012-01-09</th>\n",
       "      <td>12392.690430</td>\n",
       "      <td>12369.805960</td>\n",
       "    </tr>\n",
       "  </tbody>\n",
       "</table>\n",
       "<p>2118 rows × 2 columns</p>\n",
       "</div>"
      ],
      "text/plain": [
       "                  Actual     Predicted\n",
       "Date                                  \n",
       "2007-05-07  13312.969727  13258.470262\n",
       "2008-04-24  12848.950195  12758.448175\n",
       "2013-08-26  14946.459961  15009.308839\n",
       "2008-06-18  12029.059570  12204.997430\n",
       "1998-02-02   8107.779785   7904.545660\n",
       "...                  ...           ...\n",
       "2010-08-12  10319.950195  10472.245344\n",
       "2011-03-04  12169.879883  12202.286268\n",
       "2003-05-28   8793.120117   8664.007465\n",
       "1992-06-19   3285.399902   3269.911231\n",
       "2012-01-09  12392.690430  12369.805960\n",
       "\n",
       "[2118 rows x 2 columns]"
      ]
     },
     "execution_count": 28,
     "metadata": {},
     "output_type": "execute_result"
    }
   ],
   "source": [
    "frame3 = pd.DataFrame({\"Actual\" : y_test , \"Predicted\" : predictions_lr})\n",
    "frame3"
   ]
  },
  {
   "cell_type": "code",
   "execution_count": 29,
   "id": "7d677bce",
   "metadata": {},
   "outputs": [
    {
     "name": "stdout",
     "output_type": "stream",
     "text": [
      "Mean Absoulte Error: 73.15076235250142\n",
      "Mean Squared Error: 11411.438698563981\n",
      "Root Mean Squared Error: 106.82433570382724\n",
      "Performance Score: 0.9994339690786078\n"
     ]
    }
   ],
   "source": [
    "print(\"Mean Absoulte Error:\",(mean_absolute_error(y_test, predictions_lr)))\n",
    "print(\"Mean Squared Error:\",(mean_squared_error(y_test, predictions_lr)))\n",
    "print(\"Root Mean Squared Error:\",math.sqrt(mean_squared_error(y_test,predictions_lr)))\n",
    "print(\"Performance Score:\",(r2_score(y_test, predictions_lr)))"
   ]
  },
  {
   "cell_type": "markdown",
   "id": "524eb112",
   "metadata": {},
   "source": [
    "Below, we use a different approach for linear regression."
   ]
  },
  {
   "cell_type": "code",
   "execution_count": 30,
   "id": "0ad6c8c1",
   "metadata": {},
   "outputs": [],
   "source": [
    "start_train= \"1988-01-01\"\n",
    "end_train=\"2015-12-31\"\n",
    "\n",
    "start_test=\"2016-01-01\"\n",
    "end_test=\"2016-12-31\""
   ]
  },
  {
   "cell_type": "code",
   "execution_count": 31,
   "id": "71252e3e",
   "metadata": {},
   "outputs": [],
   "source": [
    "data_train=newdf[start_train:end_train]\n",
    "\n",
    "X_train= data_train.drop('close',axis=1).values\n",
    "y_train= data_train['close'].values\n",
    "data_test= newdf[start_test:end_test]\n",
    "\n",
    "X_test= data_test.drop('close',axis=1).values\n",
    "y_test= data_test['close'].values"
   ]
  },
  {
   "cell_type": "code",
   "execution_count": 32,
   "id": "68dd8e96",
   "metadata": {},
   "outputs": [],
   "source": [
    "scaler=StandardScaler()\n",
    "\n",
    "X_scaled_train= scaler.fit_transform(X_train)\n",
    "X_scaled_test=scaler.transform(X_test)\n",
    "\n",
    "param_grid={\n",
    "    \"alpha\":[1e-5,3e-5,1e-4],\n",
    "    \"eta0\":[0.01,0.03,0.1]\n",
    "}"
   ]
  },
  {
   "cell_type": "code",
   "execution_count": 33,
   "id": "67453a5b",
   "metadata": {},
   "outputs": [],
   "source": [
    "from sklearn.linear_model import LinearRegression\n",
    "lr = LinearRegression(normalize=True)"
   ]
  },
  {
   "cell_type": "code",
   "execution_count": 34,
   "id": "1eb7edaa",
   "metadata": {},
   "outputs": [
    {
     "data": {
      "text/plain": [
       "LinearRegression(normalize=True)"
      ]
     },
     "execution_count": 34,
     "metadata": {},
     "output_type": "execute_result"
    }
   ],
   "source": [
    "lr.fit(X_train,y_train)"
   ]
  },
  {
   "cell_type": "code",
   "execution_count": 35,
   "id": "8896dce0",
   "metadata": {},
   "outputs": [
    {
     "data": {
      "text/plain": [
       "array([17374.97910258, 17138.1512139 , 17145.96917504, 16863.28426431,\n",
       "       16558.53748062, 16428.78980927, 16472.75287785, 16560.26230125,\n",
       "       16225.7838623 , 16328.33250967, 16080.97138338, 15976.54086261,\n",
       "       15784.55041377, 16040.54948977, 16101.19283089, 15951.43697202,\n",
       "       16187.21974833, 16029.95982551, 16142.43890595, 16416.67910316,\n",
       "       16349.59674329, 16259.05148428, 16285.91586438, 16411.54231384,\n",
       "       16029.17549573, 15941.47134545, 16080.73738421, 15892.91302272,\n",
       "       15752.2283065 , 16075.69929172, 16243.28875847, 16524.66549097,\n",
       "       16398.35698306, 16443.77342742, 16574.2669565 , 16387.595964  ,\n",
       "       16500.8664477 , 16716.01291061, 16623.47755149, 16612.03338138,\n",
       "       16799.85090103, 16865.75207507, 16925.34561706, 16950.67027796,\n",
       "       16992.03767548, 16978.58210719, 17018.9952197 , 17048.16636898,\n",
       "       17183.30905081, 17184.78435217, 17224.49116466, 17304.34245209,\n",
       "       17470.66694883, 17536.47766298, 17532.16069134, 17581.17788755,\n",
       "       17434.64099192, 17516.42444767, 17470.9660801 , 17675.7599037 ,\n",
       "       17718.82992258, 17617.59923432, 17793.40921569, 17678.3412495 ,\n",
       "       17612.1322163 , 17617.97078319, 17583.13202697, 17617.13864476,\n",
       "       17619.10617661, 17773.05051183, 17909.69516524, 17922.63327859,\n",
       "       17871.69875797, 18012.10534651, 18063.04998093, 18081.56757993,\n",
       "       17987.4069635 , 17951.90250192, 17987.51750362, 18003.13816327,\n",
       "       17976.37851201, 17785.28126005, 17794.62571257, 17828.38007465,\n",
       "       17701.75318625, 17693.91102928, 17639.1148304 , 17742.42335759,\n",
       "       17770.13369511, 17893.37463867, 17724.63261235, 17696.82586241,\n",
       "       17543.84436508, 17689.21355833, 17450.16463939, 17499.32142625,\n",
       "       17438.24226254, 17529.98811286, 17593.19716447, 17787.24658237,\n",
       "       17871.52046932, 17825.27153537, 17925.68173015, 17683.99752485,\n",
       "       17774.26829124, 17705.41419468, 17845.48623519, 17959.09710306,\n",
       "       17923.1927191 , 17895.63403844, 17840.39704451, 17759.06476255,\n",
       "       17684.95355325, 17761.29115359, 17540.18209075, 17710.41565472,\n",
       "       17830.57019768, 17864.44991078, 17818.08740808, 17959.19041938,\n",
       "       17791.74468061, 17285.73010225, 17301.40621553, 17542.12441044,\n",
       "       17731.1504974 , 17886.29414442, 17813.84548334, 17737.01158359,\n",
       "       17918.38106528, 18116.40689113, 18181.95259204, 18321.67974802,\n",
       "       18368.98396776, 18490.82395844, 18511.71847376, 18529.15667181,\n",
       "       18443.29848104, 18629.23268022, 18583.21991629, 18542.05914864,\n",
       "       18526.67176724, 18516.3253089 , 18476.94148678, 18450.31946671,\n",
       "       18412.45856524, 18437.27638216, 18395.9652799 , 18311.47725512,\n",
       "       18342.49641557, 18508.23975596, 18533.60206189, 18560.21841858,\n",
       "       18569.46508381, 18575.17058537, 18560.74098584, 18612.82425415,\n",
       "       18581.72046061, 18515.09936534, 18544.28490659, 18555.15819003,\n",
       "       18495.13819472, 18639.37594997, 18520.7503175 , 18446.07051239,\n",
       "       18506.35003076, 18482.20247464, 18465.68052078, 18397.6705448 ,\n",
       "       18379.58230201, 18541.69775671, 18494.40427871, 18494.71784593,\n",
       "       18398.55429746, 18249.180535  , 17947.03615285, 18136.75201826,\n",
       "       18098.55506819, 18016.79615928, 18214.76003441, 18192.70555602,\n",
       "       18273.45556263, 18220.31849972, 18409.29665176, 18328.46931703,\n",
       "       18139.27642608, 18119.38839134, 18258.19927722, 18280.40774277,\n",
       "       18266.69200529, 18222.49924342, 18285.70512289, 18280.6101027 ,\n",
       "       18275.51712043, 18329.98774623, 18358.37658927, 18273.21781324,\n",
       "       18144.32589621, 17984.05760956, 18328.1479338 , 18148.38741073,\n",
       "       18258.03741743, 18210.42991146, 18080.31485215, 18135.45829955,\n",
       "       18283.56017111, 18169.74146427, 17970.10564908, 18291.52035915,\n",
       "       18234.79708273, 18199.33192938, 18181.37012483, 17973.92706253,\n",
       "       18022.59669429, 17931.03959185, 18216.87263188, 18223.3724435 ,\n",
       "       18288.24766971, 18611.66892044, 18713.82456175, 18910.15640385,\n",
       "       18824.42799781, 18863.71827021, 18853.92658848, 18902.93855556,\n",
       "       18961.28889871, 18994.32251692, 18999.10545557, 19110.88470153,\n",
       "       19062.17195656, 19003.24037439, 19171.03152186, 19214.63567543,\n",
       "       19101.51026953, 19390.61477342, 19214.97302834, 19206.58897343,\n",
       "       19560.93583615, 19678.71648619, 19842.38695499, 20020.37880518,\n",
       "       19882.94774669, 19940.81699337, 20120.30418477, 19924.09375598,\n",
       "       20091.92235283, 20033.05424752, 19941.98565803, 19923.87096116,\n",
       "       19962.52797018, 19986.17441042, 19815.35010278, 19820.31641574])"
      ]
     },
     "execution_count": 35,
     "metadata": {},
     "output_type": "execute_result"
    }
   ],
   "source": [
    "pred = lr.predict(X_test)\n",
    "pred"
   ]
  },
  {
   "cell_type": "markdown",
   "id": "a8c1e592",
   "metadata": {},
   "source": [
    "# Comparing predicted and actual values :"
   ]
  },
  {
   "cell_type": "code",
   "execution_count": 36,
   "id": "8d60f80d",
   "metadata": {},
   "outputs": [
    {
     "data": {
      "text/html": [
       "<div>\n",
       "<style scoped>\n",
       "    .dataframe tbody tr th:only-of-type {\n",
       "        vertical-align: middle;\n",
       "    }\n",
       "\n",
       "    .dataframe tbody tr th {\n",
       "        vertical-align: top;\n",
       "    }\n",
       "\n",
       "    .dataframe thead th {\n",
       "        text-align: right;\n",
       "    }\n",
       "</style>\n",
       "<table border=\"1\" class=\"dataframe\">\n",
       "  <thead>\n",
       "    <tr style=\"text-align: right;\">\n",
       "      <th></th>\n",
       "      <th>Actual</th>\n",
       "      <th>Predicted</th>\n",
       "    </tr>\n",
       "  </thead>\n",
       "  <tbody>\n",
       "    <tr>\n",
       "      <th>0</th>\n",
       "      <td>17148.939453</td>\n",
       "      <td>17374.979103</td>\n",
       "    </tr>\n",
       "    <tr>\n",
       "      <th>1</th>\n",
       "      <td>17158.660156</td>\n",
       "      <td>17138.151214</td>\n",
       "    </tr>\n",
       "    <tr>\n",
       "      <th>2</th>\n",
       "      <td>16906.509766</td>\n",
       "      <td>17145.969175</td>\n",
       "    </tr>\n",
       "    <tr>\n",
       "      <th>3</th>\n",
       "      <td>16514.099609</td>\n",
       "      <td>16863.284264</td>\n",
       "    </tr>\n",
       "    <tr>\n",
       "      <th>4</th>\n",
       "      <td>16346.450195</td>\n",
       "      <td>16558.537481</td>\n",
       "    </tr>\n",
       "    <tr>\n",
       "      <th>...</th>\n",
       "      <td>...</td>\n",
       "      <td>...</td>\n",
       "    </tr>\n",
       "    <tr>\n",
       "      <th>247</th>\n",
       "      <td>19933.810547</td>\n",
       "      <td>19923.870961</td>\n",
       "    </tr>\n",
       "    <tr>\n",
       "      <th>248</th>\n",
       "      <td>19945.039063</td>\n",
       "      <td>19962.527970</td>\n",
       "    </tr>\n",
       "    <tr>\n",
       "      <th>249</th>\n",
       "      <td>19833.679688</td>\n",
       "      <td>19986.174410</td>\n",
       "    </tr>\n",
       "    <tr>\n",
       "      <th>250</th>\n",
       "      <td>19819.779297</td>\n",
       "      <td>19815.350103</td>\n",
       "    </tr>\n",
       "    <tr>\n",
       "      <th>251</th>\n",
       "      <td>19762.599609</td>\n",
       "      <td>19820.316416</td>\n",
       "    </tr>\n",
       "  </tbody>\n",
       "</table>\n",
       "<p>252 rows × 2 columns</p>\n",
       "</div>"
      ],
      "text/plain": [
       "           Actual     Predicted\n",
       "0    17148.939453  17374.979103\n",
       "1    17158.660156  17138.151214\n",
       "2    16906.509766  17145.969175\n",
       "3    16514.099609  16863.284264\n",
       "4    16346.450195  16558.537481\n",
       "..            ...           ...\n",
       "247  19933.810547  19923.870961\n",
       "248  19945.039063  19962.527970\n",
       "249  19833.679688  19986.174410\n",
       "250  19819.779297  19815.350103\n",
       "251  19762.599609  19820.316416\n",
       "\n",
       "[252 rows x 2 columns]"
      ]
     },
     "execution_count": 36,
     "metadata": {},
     "output_type": "execute_result"
    }
   ],
   "source": [
    "frame2 = pd.DataFrame({\"Actual\" : y_test , \"Predicted\" : pred})\n",
    "frame2"
   ]
  },
  {
   "cell_type": "code",
   "execution_count": 37,
   "id": "09be363a",
   "metadata": {},
   "outputs": [],
   "source": [
    "from sklearn.metrics import mean_absolute_error\n",
    "from sklearn.metrics import mean_squared_error\n",
    "import math"
   ]
  },
  {
   "cell_type": "code",
   "execution_count": 38,
   "id": "dee008d1",
   "metadata": {},
   "outputs": [
    {
     "name": "stdout",
     "output_type": "stream",
     "text": [
      "Mean Absoulte Error: 87.61584615095649\n",
      "Mean Squared Error: 13836.601405179292\n",
      "Root Mean Squared Error: 117.62908401062762\n",
      "Performance Score: 0.984370028062823\n"
     ]
    }
   ],
   "source": [
    "print(\"Mean Absoulte Error:\",mean_absolute_error(y_test,pred))\n",
    "print(\"Mean Squared Error:\",mean_squared_error(y_test,pred))\n",
    "print(\"Root Mean Squared Error:\",math.sqrt(mean_squared_error(y_test,pred)))\n",
    "print(\"Performance Score:\",r2_score(y_test, pred))"
   ]
  },
  {
   "cell_type": "code",
   "execution_count": 39,
   "id": "a716b0de",
   "metadata": {},
   "outputs": [
    {
     "data": {
      "image/png": "[encoded data removed]",
      "text/plain": [
       "<Figure size 800x500 with 1 Axes>"
      ]
     },
     "metadata": {
      "needs_background": "light"
     },
     "output_type": "display_data"
    }
   ],
   "source": [
    "plt.figure(figsize=(8,5), dpi=100)\n",
    "\n",
    "plt.plot(y_test, y_test, 'r--',label='ACTUAL') \n",
    "plt.plot(y_test, pred, 'b.-',label='PREDICTED')\n",
    "\n",
    "plt.title('Linear Regressor!', fontdict={'fontname': 'Arial', 'fontsize': 20})\n",
    "plt.xlabel('X Axis')\n",
    "plt.ylabel('Y Axis')\n",
    "plt.legend()\n",
    "plt.show()"
   ]
  },
  {
   "cell_type": "markdown",
   "id": "e3bceccf",
   "metadata": {},
   "source": [
    "# LOGISTIC REGRESSION"
   ]
  },
  {
   "cell_type": "code",
   "execution_count": 40,
   "id": "4b56962e",
   "metadata": {},
   "outputs": [],
   "source": [
    "from sklearn.linear_model import LogisticRegression\n",
    "from sklearn.preprocessing import MinMaxScaler\n",
    "scaler = MinMaxScaler(feature_range=(0, 1))\n"
   ]
  },
  {
   "cell_type": "code",
   "execution_count": 41,
   "id": "3ab946df",
   "metadata": {},
   "outputs": [],
   "source": [
    "train = newdf[:987]\n",
    "valid = newdf[987:]\n",
    "\n",
    "x_train = train.drop('close', axis=1)\n",
    "y_train = train['close']\n",
    "x_valid = valid.drop('close', axis=1)\n",
    "y_valid = valid['close']"
   ]
  },
  {
   "cell_type": "code",
   "execution_count": 42,
   "id": "d157a0f2",
   "metadata": {},
   "outputs": [
    {
     "name": "stdout",
     "output_type": "stream",
     "text": [
      "[2209.53141077 2214.59327552 2216.25217866 ... 3412.20095319 3400.97134879\n",
      " 3396.79741264]\n"
     ]
    }
   ],
   "source": [
    "#scaling data\n",
    "x_train_scaled = scaler.fit_transform(x_train)\n",
    "x_train = pd.DataFrame(x_train_scaled)\n",
    "x_valid_scaled = scaler.fit_transform(x_valid)\n",
    "x_valid = pd.DataFrame(x_valid_scaled)\n",
    "\n",
    "#fit the model and make predictions\n",
    "lr.fit(x_train,y_train.ravel())\n",
    "preds = lr.predict(x_valid)\n",
    "print(preds)"
   ]
  },
  {
   "cell_type": "code",
   "execution_count": 43,
   "id": "9068a6f9",
   "metadata": {},
   "outputs": [
    {
     "name": "stdout",
     "output_type": "stream",
     "text": [
      "Accuracy of trained model 0.9951128684710819\n"
     ]
    }
   ],
   "source": [
    "print('Accuracy of trained model',lr.score(x_train,y_train))"
   ]
  },
  {
   "cell_type": "code",
   "execution_count": 44,
   "id": "743c20e5",
   "metadata": {},
   "outputs": [
    {
     "data": {
      "text/plain": [
       "8533.009496535487"
      ]
     },
     "execution_count": 44,
     "metadata": {},
     "output_type": "execute_result"
    }
   ],
   "source": [
    "rms=np.sqrt(np.mean(np.power((np.array(y_valid)-np.array(preds)),2)))\n",
    "rms"
   ]
  },
  {
   "cell_type": "markdown",
   "id": "251ff3dc",
   "metadata": {},
   "source": [
    "# Now , we see results with Random Forest Regressor"
   ]
  },
  {
   "cell_type": "code",
   "execution_count": 49,
   "id": "e09ac05f",
   "metadata": {},
   "outputs": [],
   "source": [
    "start_train= \"1988-01-01\"\n",
    "end_train=\"2015-12-31\"\n",
    "\n",
    "start_test=\"2016-01-01\"\n",
    "end_test=\"2016-12-31\""
   ]
  },
  {
   "cell_type": "code",
   "execution_count": 50,
   "id": "e627140a",
   "metadata": {},
   "outputs": [],
   "source": [
    "data_train=newdf[start_train:end_train]\n",
    "\n",
    "X_train= data_train.drop('close',axis=1).values\n",
    "y_train= data_train['close'].values\n",
    "data_test= newdf[start_test:end_test]\n",
    "\n",
    "X_test= data_test.drop('close',axis=1).values\n",
    "y_test= data_test['close'].values"
   ]
  },
  {
   "cell_type": "code",
   "execution_count": 51,
   "id": "dfe6ad51",
   "metadata": {},
   "outputs": [],
   "source": [
    "param_grid={\n",
    "    'max_depth':[5,10,15],\n",
    "    'min_samples_split':[5,10],\n",
    "    'max_features':['auto','sqrt'],\n",
    "    'min_samples_leaf':[3,4]\n",
    "}"
   ]
  },
  {
   "cell_type": "code",
   "execution_count": 52,
   "id": "d713dbd0",
   "metadata": {},
   "outputs": [
    {
     "name": "stdout",
     "output_type": "stream",
     "text": [
      "{'max_depth': 10, 'max_features': 'auto', 'min_samples_leaf': 3, 'min_samples_split': 5}\n"
     ]
    }
   ],
   "source": [
    "from sklearn.ensemble import RandomForestRegressor\n",
    "\n",
    "rf=RandomForestRegressor(n_estimators=100, n_jobs=-1)\n",
    "\n",
    "grid_search= GridSearchCV(rf, param_grid, cv=5, scoring=\"r2\", n_jobs=-1)\n",
    "grid_search.fit(X_scaled_train, y_train)\n",
    "\n",
    "print(grid_search.best_params_)"
   ]
  },
  {
   "cell_type": "code",
   "execution_count": 53,
   "id": "17b74827",
   "metadata": {},
   "outputs": [],
   "source": [
    "rf_best= grid_search.best_estimator_\n",
    "\n",
    "predictions_rf= rf_best.predict(X_scaled_test)"
   ]
  },
  {
   "cell_type": "code",
   "execution_count": 54,
   "id": "ef5bf6ff",
   "metadata": {},
   "outputs": [
    {
     "data": {
      "text/html": [
       "<div>\n",
       "<style scoped>\n",
       "    .dataframe tbody tr th:only-of-type {\n",
       "        vertical-align: middle;\n",
       "    }\n",
       "\n",
       "    .dataframe tbody tr th {\n",
       "        vertical-align: top;\n",
       "    }\n",
       "\n",
       "    .dataframe thead th {\n",
       "        text-align: right;\n",
       "    }\n",
       "</style>\n",
       "<table border=\"1\" class=\"dataframe\">\n",
       "  <thead>\n",
       "    <tr style=\"text-align: right;\">\n",
       "      <th></th>\n",
       "      <th>Actual</th>\n",
       "      <th>Predicted</th>\n",
       "    </tr>\n",
       "  </thead>\n",
       "  <tbody>\n",
       "    <tr>\n",
       "      <th>0</th>\n",
       "      <td>17148.939453</td>\n",
       "      <td>17387.296404</td>\n",
       "    </tr>\n",
       "    <tr>\n",
       "      <th>1</th>\n",
       "      <td>17158.660156</td>\n",
       "      <td>17223.622627</td>\n",
       "    </tr>\n",
       "    <tr>\n",
       "      <th>2</th>\n",
       "      <td>16906.509766</td>\n",
       "      <td>17151.325610</td>\n",
       "    </tr>\n",
       "    <tr>\n",
       "      <th>3</th>\n",
       "      <td>16514.099609</td>\n",
       "      <td>16888.644058</td>\n",
       "    </tr>\n",
       "    <tr>\n",
       "      <th>4</th>\n",
       "      <td>16346.450195</td>\n",
       "      <td>16459.764202</td>\n",
       "    </tr>\n",
       "    <tr>\n",
       "      <th>...</th>\n",
       "      <td>...</td>\n",
       "      <td>...</td>\n",
       "    </tr>\n",
       "    <tr>\n",
       "      <th>247</th>\n",
       "      <td>19933.810547</td>\n",
       "      <td>18215.200200</td>\n",
       "    </tr>\n",
       "    <tr>\n",
       "      <th>248</th>\n",
       "      <td>19945.039063</td>\n",
       "      <td>18219.407187</td>\n",
       "    </tr>\n",
       "    <tr>\n",
       "      <th>249</th>\n",
       "      <td>19833.679688</td>\n",
       "      <td>18221.570973</td>\n",
       "    </tr>\n",
       "    <tr>\n",
       "      <th>250</th>\n",
       "      <td>19819.779297</td>\n",
       "      <td>18221.893817</td>\n",
       "    </tr>\n",
       "    <tr>\n",
       "      <th>251</th>\n",
       "      <td>19762.599609</td>\n",
       "      <td>18222.473763</td>\n",
       "    </tr>\n",
       "  </tbody>\n",
       "</table>\n",
       "<p>252 rows × 2 columns</p>\n",
       "</div>"
      ],
      "text/plain": [
       "           Actual     Predicted\n",
       "0    17148.939453  17387.296404\n",
       "1    17158.660156  17223.622627\n",
       "2    16906.509766  17151.325610\n",
       "3    16514.099609  16888.644058\n",
       "4    16346.450195  16459.764202\n",
       "..            ...           ...\n",
       "247  19933.810547  18215.200200\n",
       "248  19945.039063  18219.407187\n",
       "249  19833.679688  18221.570973\n",
       "250  19819.779297  18221.893817\n",
       "251  19762.599609  18222.473763\n",
       "\n",
       "[252 rows x 2 columns]"
      ]
     },
     "execution_count": 54,
     "metadata": {},
     "output_type": "execute_result"
    }
   ],
   "source": [
    "framerf = pd.DataFrame({\"Actual\" : y_test , \"Predicted\" : predictions_rf})\n",
    "framerf"
   ]
  },
  {
   "cell_type": "code",
   "execution_count": 55,
   "id": "44c5075c",
   "metadata": {},
   "outputs": [
    {
     "name": "stdout",
     "output_type": "stream",
     "text": [
      "Root Mean Squared Error: 257370.41909988286\n",
      "Mean Squared Error: 299.40404148752185\n",
      "R^2 Score 0.7092716404705504\n"
     ]
    }
   ],
   "source": [
    "print(\"Root Mean Squared Error:\",(mean_squared_error(y_test, predictions_rf)))\n",
    "print(\"Mean Squared Error:\",(mean_absolute_error(y_test, predictions_rf)))\n",
    "print('R^2 Score',(r2_score(y_test, predictions_rf)))"
   ]
  },
  {
   "cell_type": "code",
   "execution_count": 56,
   "id": "70434c2a",
   "metadata": {},
   "outputs": [
    {
     "data": {
      "image/png": "[encoded data removed]",
      "text/plain": [
       "<Figure size 800x500 with 1 Axes>"
      ]
     },
     "metadata": {
      "needs_background": "light"
     },
     "output_type": "display_data"
    }
   ],
   "source": [
    "plt.figure(figsize=(8,5), dpi=100)\n",
    "\n",
    "plt.plot(y_test, y_test, 'r--',label='ACTUAL') \n",
    "plt.plot(y_test, predictions_rf, 'b.-',label='PREDICTED')\n",
    "\n",
    "plt.title('Random Forest Regressor!', fontdict={'fontname': 'Arial', 'fontsize': 20})\n",
    "plt.xlabel('X Axis')\n",
    "plt.ylabel('Y Axis')\n",
    "plt.legend()\n",
    "plt.show()"
   ]
  },
  {
   "cell_type": "markdown",
   "id": "6047f84a",
   "metadata": {},
   "source": [
    "# Thus, we have predicted stock price using regression techinques."
   ]
  },
  {
   "cell_type": "markdown",
   "id": "9b3909ed",
   "metadata": {},
   "source": [
    "# Thank You"
   ]
  }
 ],
 "metadata": {
  "kernelspec": {
   "display_name": "Python 3 (ipykernel)",
   "language": "python",
   "name": "python3"
  },
  "language_info": {
   "codemirror_mode": {
    "name": "ipython",
    "version": 3
   },
   "file_extension": ".py",
   "mimetype": "text/x-python",
   "name": "python",
   "nbconvert_exporter": "python",
   "pygments_lexer": "ipython3",
   "version": "3.9.12"
  }
 },
 "nbformat": 4,
 "nbformat_minor": 5
}
